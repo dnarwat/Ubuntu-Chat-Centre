{
 "cells": [
  {
   "cell_type": "code",
   "execution_count": 2,
   "metadata": {},
   "outputs": [],
   "source": [
    "import pandas as pd\n",
    "import zipfile\n",
    "import requests\n",
    "import os"
   ]
  },
  {
   "cell_type": "markdown",
   "metadata": {},
   "source": [
    "## Download data from S3\n",
    "\n",
    "Note, the file for the ubuntu data is large - expect the next cell to take several seconds to run."
   ]
  },
  {
   "cell_type": "code",
   "execution_count": 2,
   "metadata": {},
   "outputs": [
    {
     "name": "stdout",
     "output_type": "stream",
     "text": [
      "Beginning data download.\n",
      "Complete, status: 200, content:application/zip\n"
     ]
    }
   ],
   "source": [
    "\n",
    "import requests\n",
    "\n",
    "print('Beginning data download.')\n",
    "\n",
    "url = 'https://edgetier.s3-eu-west-1.amazonaws.com/ubunbu-code-test-data/ubuntu_support_extract.csv.zip'  \n",
    "r = requests.get(url)\n",
    "\n",
    "with open('./data/ubuntu_support_data.csv.zip', 'wb') as fh:  \n",
    "    fh.write(r.content)\n",
    "\n",
    "# Retrieve HTTP meta-data\n",
    "print(f\"Complete, status: {r.status_code}, content:{r.headers['content-type']}\")  \n"
   ]
  },
  {
   "cell_type": "markdown",
   "metadata": {},
   "source": [
    "## Unzipping data"
   ]
  },
  {
   "cell_type": "code",
   "execution_count": 3,
   "metadata": {},
   "outputs": [
    {
     "name": "stdout",
     "output_type": "stream",
     "text": [
      "Unzipping Data\n",
      "Data unzipped!\n"
     ]
    },
    {
     "data": {
      "text/plain": [
       "['empty.txt', 'ubuntu_support_data.csv.zip', 'ubuntu_support_extract.csv']"
      ]
     },
     "execution_count": 3,
     "metadata": {},
     "output_type": "execute_result"
    }
   ],
   "source": [
    "print (\"Unzipping Data\")\n",
    "with zipfile.ZipFile(\"./data/ubuntu_support_data.csv.zip\", 'r') as file:\n",
    "    file.extractall(\"./data/\")\n",
    "\n",
    "print(\"Data unzipped!\")\n",
    "os.listdir(\"./data\")"
   ]
  },
  {
   "cell_type": "markdown",
   "metadata": {},
   "source": [
    "## Loading data"
   ]
  },
  {
   "cell_type": "code",
   "execution_count": 21,
   "metadata": {},
   "outputs": [
    {
     "data": {
      "text/html": [
       "<div>\n",
       "<style scoped>\n",
       "    .dataframe tbody tr th:only-of-type {\n",
       "        vertical-align: middle;\n",
       "    }\n",
       "\n",
       "    .dataframe tbody tr th {\n",
       "        vertical-align: top;\n",
       "    }\n",
       "\n",
       "    .dataframe thead th {\n",
       "        text-align: right;\n",
       "    }\n",
       "</style>\n",
       "<table border=\"1\" class=\"dataframe\">\n",
       "  <thead>\n",
       "    <tr style=\"text-align: right;\">\n",
       "      <th></th>\n",
       "      <th>conversation_id</th>\n",
       "      <th>datetime</th>\n",
       "      <th>from</th>\n",
       "      <th>to</th>\n",
       "      <th>text</th>\n",
       "    </tr>\n",
       "  </thead>\n",
       "  <tbody>\n",
       "    <tr>\n",
       "      <th>0</th>\n",
       "      <td>10-10000</td>\n",
       "      <td>2010-04-17 20:15:00+00:00</td>\n",
       "      <td>fk91</td>\n",
       "      <td>NaN</td>\n",
       "      <td>Hello, I have a minimal linux system: how can ...</td>\n",
       "    </tr>\n",
       "    <tr>\n",
       "      <th>1</th>\n",
       "      <td>10-10000</td>\n",
       "      <td>2010-04-17 20:15:00+00:00</td>\n",
       "      <td>fk91</td>\n",
       "      <td>NaN</td>\n",
       "      <td>@Maco: ip is there, thanks :)</td>\n",
       "    </tr>\n",
       "    <tr>\n",
       "      <th>2</th>\n",
       "      <td>10-10000</td>\n",
       "      <td>2010-04-17 20:15:00+00:00</td>\n",
       "      <td>sometux</td>\n",
       "      <td>fk91</td>\n",
       "      <td>ifconfig</td>\n",
       "    </tr>\n",
       "    <tr>\n",
       "      <th>3</th>\n",
       "      <td>10-10000</td>\n",
       "      <td>2010-04-17 20:15:00+00:00</td>\n",
       "      <td>sometux</td>\n",
       "      <td>fk91</td>\n",
       "      <td>static or dhcp</td>\n",
       "    </tr>\n",
       "    <tr>\n",
       "      <th>4</th>\n",
       "      <td>10-10000</td>\n",
       "      <td>2010-04-17 20:16:00+00:00</td>\n",
       "      <td>fk91</td>\n",
       "      <td>NaN</td>\n",
       "      <td>static</td>\n",
       "    </tr>\n",
       "  </tbody>\n",
       "</table>\n",
       "</div>"
      ],
      "text/plain": [
       "  conversation_id                   datetime     from    to  \\\n",
       "0        10-10000  2010-04-17 20:15:00+00:00     fk91   NaN   \n",
       "1        10-10000  2010-04-17 20:15:00+00:00     fk91   NaN   \n",
       "2        10-10000  2010-04-17 20:15:00+00:00  sometux  fk91   \n",
       "3        10-10000  2010-04-17 20:15:00+00:00  sometux  fk91   \n",
       "4        10-10000  2010-04-17 20:16:00+00:00     fk91   NaN   \n",
       "\n",
       "                                                text  \n",
       "0  Hello, I have a minimal linux system: how can ...  \n",
       "1                      @Maco: ip is there, thanks :)  \n",
       "2                                           ifconfig  \n",
       "3                                     static or dhcp  \n",
       "4                                             static  "
      ]
     },
     "execution_count": 21,
     "metadata": {},
     "output_type": "execute_result"
    }
   ],
   "source": [
    "# Load the data into a pandas data frame and print:\n",
    "data = pd.read_csv(\"./data/ubuntu_support_extract.csv\")\n",
    "data.head()"
   ]
  },
  {
   "cell_type": "code",
   "execution_count": 23,
   "metadata": {},
   "outputs": [
    {
     "data": {
      "text/plain": [
       "(3075574, 5)"
      ]
     },
     "execution_count": 23,
     "metadata": {},
     "output_type": "execute_result"
    }
   ],
   "source": [
    "data.shape"
   ]
  },
  {
   "cell_type": "markdown",
   "metadata": {},
   "source": [
    "#### Checking if the from column contains any nan or Null values. Those conv are not important to me as they dont tell anything about any user."
   ]
  },
  {
   "cell_type": "code",
   "execution_count": 134,
   "metadata": {},
   "outputs": [
    {
     "data": {
      "text/html": [
       "<div>\n",
       "<style scoped>\n",
       "    .dataframe tbody tr th:only-of-type {\n",
       "        vertical-align: middle;\n",
       "    }\n",
       "\n",
       "    .dataframe tbody tr th {\n",
       "        vertical-align: top;\n",
       "    }\n",
       "\n",
       "    .dataframe thead th {\n",
       "        text-align: right;\n",
       "    }\n",
       "</style>\n",
       "<table border=\"1\" class=\"dataframe\">\n",
       "  <thead>\n",
       "    <tr style=\"text-align: right;\">\n",
       "      <th></th>\n",
       "      <th>conversation_id</th>\n",
       "      <th>datetime</th>\n",
       "      <th>from</th>\n",
       "      <th>to</th>\n",
       "      <th>text</th>\n",
       "    </tr>\n",
       "  </thead>\n",
       "  <tbody>\n",
       "    <tr>\n",
       "      <th>817847</th>\n",
       "      <td>16-5987</td>\n",
       "      <td>2010-03-29 14:52:00+00:00</td>\n",
       "      <td>NaN</td>\n",
       "      <td>NaN</td>\n",
       "      <td>but grub throws grub_getcharwidth error</td>\n",
       "    </tr>\n",
       "    <tr>\n",
       "      <th>817848</th>\n",
       "      <td>16-5987</td>\n",
       "      <td>2010-03-29 14:52:00+00:00</td>\n",
       "      <td>NaN</td>\n",
       "      <td>NaN</td>\n",
       "      <td>and drops to grub recovery</td>\n",
       "    </tr>\n",
       "    <tr>\n",
       "      <th>817849</th>\n",
       "      <td>16-5987</td>\n",
       "      <td>2010-03-29 14:52:00+00:00</td>\n",
       "      <td>NaN</td>\n",
       "      <td>NaN</td>\n",
       "      <td>where i can ls the device and partitions</td>\n",
       "    </tr>\n",
       "    <tr>\n",
       "      <th>817850</th>\n",
       "      <td>16-5987</td>\n",
       "      <td>2010-03-29 14:53:00+00:00</td>\n",
       "      <td>NaN</td>\n",
       "      <td>NaN</td>\n",
       "      <td>and even folders</td>\n",
       "    </tr>\n",
       "    <tr>\n",
       "      <th>817851</th>\n",
       "      <td>16-5987</td>\n",
       "      <td>2010-03-29 14:53:00+00:00</td>\n",
       "      <td>NaN</td>\n",
       "      <td>NaN</td>\n",
       "      <td>i can set the kernel to /vmlinuz</td>\n",
       "    </tr>\n",
       "    <tr>\n",
       "      <th>817852</th>\n",
       "      <td>16-5987</td>\n",
       "      <td>2010-03-29 14:53:00+00:00</td>\n",
       "      <td>NaN</td>\n",
       "      <td>NaN</td>\n",
       "      <td>but when i type boot, it says: no kernel loaded</td>\n",
       "    </tr>\n",
       "    <tr>\n",
       "      <th>817853</th>\n",
       "      <td>16-5987</td>\n",
       "      <td>2010-03-29 14:53:00+00:00</td>\n",
       "      <td>NaN</td>\n",
       "      <td>NaN</td>\n",
       "      <td>10.04 works, but not 9.10</td>\n",
       "    </tr>\n",
       "    <tr>\n",
       "      <th>817854</th>\n",
       "      <td>16-5987</td>\n",
       "      <td>2010-03-29 14:54:00+00:00</td>\n",
       "      <td>NaN</td>\n",
       "      <td>NaN</td>\n",
       "      <td>so I'm not sure what else to do</td>\n",
       "    </tr>\n",
       "    <tr>\n",
       "      <th>817855</th>\n",
       "      <td>16-5987</td>\n",
       "      <td>2010-03-29 14:55:00+00:00</td>\n",
       "      <td>NaN</td>\n",
       "      <td>NaN</td>\n",
       "      <td>does that make sense?</td>\n",
       "    </tr>\n",
       "    <tr>\n",
       "      <th>817856</th>\n",
       "      <td>16-5987</td>\n",
       "      <td>2010-03-29 14:56:00+00:00</td>\n",
       "      <td>NaN</td>\n",
       "      <td>NaN</td>\n",
       "      <td>Is there anyone who can help me with my grub e...</td>\n",
       "    </tr>\n",
       "    <tr>\n",
       "      <th>817858</th>\n",
       "      <td>16-5987</td>\n",
       "      <td>2010-03-29 14:59:00+00:00</td>\n",
       "      <td>NaN</td>\n",
       "      <td>indus</td>\n",
       "      <td>i think i sent you a message?</td>\n",
       "    </tr>\n",
       "    <tr>\n",
       "      <th>817859</th>\n",
       "      <td>16-5987</td>\n",
       "      <td>2010-03-29 15:01:00+00:00</td>\n",
       "      <td>NaN</td>\n",
       "      <td>NaN</td>\n",
       "      <td>can anyone help me with my grub error?</td>\n",
       "    </tr>\n",
       "    <tr>\n",
       "      <th>817862</th>\n",
       "      <td>16-5987</td>\n",
       "      <td>2010-03-29 15:02:00+00:00</td>\n",
       "      <td>NaN</td>\n",
       "      <td>indus</td>\n",
       "      <td>i think i opened a window to chat with you dir...</td>\n",
       "    </tr>\n",
       "    <tr>\n",
       "      <th>1788530</th>\n",
       "      <td>4-231978</td>\n",
       "      <td>2010-02-25 19:15:00+00:00</td>\n",
       "      <td>NaN</td>\n",
       "      <td>NaN</td>\n",
       "      <td>Question: In Intrepid, if I enable my wired et...</td>\n",
       "    </tr>\n",
       "    <tr>\n",
       "      <th>1788533</th>\n",
       "      <td>4-231978</td>\n",
       "      <td>2010-02-25 19:23:00+00:00</td>\n",
       "      <td>NaN</td>\n",
       "      <td>erUSUL</td>\n",
       "      <td>Thanks, that did it!</td>\n",
       "    </tr>\n",
       "    <tr>\n",
       "      <th>2126179</th>\n",
       "      <td>5-30220</td>\n",
       "      <td>2010-03-29 14:40:00+00:00</td>\n",
       "      <td>NaN</td>\n",
       "      <td>NaN</td>\n",
       "      <td>hello, can anyone help me? I am getting an gru...</td>\n",
       "    </tr>\n",
       "    <tr>\n",
       "      <th>2126180</th>\n",
       "      <td>5-30220</td>\n",
       "      <td>2010-03-29 14:42:00+00:00</td>\n",
       "      <td>NaN</td>\n",
       "      <td>NaN</td>\n",
       "      <td>i have xubuntu installed on a macbook pro, and...</td>\n",
       "    </tr>\n",
       "    <tr>\n",
       "      <th>2126181</th>\n",
       "      <td>5-30220</td>\n",
       "      <td>2010-03-29 14:42:00+00:00</td>\n",
       "      <td>NaN</td>\n",
       "      <td>NaN</td>\n",
       "      <td>everytime i try to boot</td>\n",
       "    </tr>\n",
       "    <tr>\n",
       "      <th>3017861</th>\n",
       "      <td>9-55270</td>\n",
       "      <td>2010-03-29 14:40:00+00:00</td>\n",
       "      <td>NaN</td>\n",
       "      <td>NaN</td>\n",
       "      <td>hello, can anyone help me? I am getting an gru...</td>\n",
       "    </tr>\n",
       "    <tr>\n",
       "      <th>3017862</th>\n",
       "      <td>9-55270</td>\n",
       "      <td>2010-03-29 14:42:00+00:00</td>\n",
       "      <td>NaN</td>\n",
       "      <td>NaN</td>\n",
       "      <td>i have xubuntu installed on a macbook pro, and...</td>\n",
       "    </tr>\n",
       "    <tr>\n",
       "      <th>3017863</th>\n",
       "      <td>9-55270</td>\n",
       "      <td>2010-03-29 14:42:00+00:00</td>\n",
       "      <td>NaN</td>\n",
       "      <td>NaN</td>\n",
       "      <td>everytime i try to boot</td>\n",
       "    </tr>\n",
       "    <tr>\n",
       "      <th>3017864</th>\n",
       "      <td>9-55270</td>\n",
       "      <td>2010-03-29 14:43:00+00:00</td>\n",
       "      <td>NaN</td>\n",
       "      <td>NaN</td>\n",
       "      <td>yes</td>\n",
       "    </tr>\n",
       "    <tr>\n",
       "      <th>3017865</th>\n",
       "      <td>9-55270</td>\n",
       "      <td>2010-03-29 14:43:00+00:00</td>\n",
       "      <td>NaN</td>\n",
       "      <td>NaN</td>\n",
       "      <td>i've reinstalled about three times</td>\n",
       "    </tr>\n",
       "    <tr>\n",
       "      <th>3017866</th>\n",
       "      <td>9-55270</td>\n",
       "      <td>2010-03-29 14:43:00+00:00</td>\n",
       "      <td>NaN</td>\n",
       "      <td>NaN</td>\n",
       "      <td>9.04</td>\n",
       "    </tr>\n",
       "    <tr>\n",
       "      <th>3017867</th>\n",
       "      <td>9-55270</td>\n",
       "      <td>2010-03-29 14:43:00+00:00</td>\n",
       "      <td>NaN</td>\n",
       "      <td>NaN</td>\n",
       "      <td>x64</td>\n",
       "    </tr>\n",
       "  </tbody>\n",
       "</table>\n",
       "</div>"
      ],
      "text/plain": [
       "        conversation_id                   datetime from      to  \\\n",
       "817847          16-5987  2010-03-29 14:52:00+00:00  NaN     NaN   \n",
       "817848          16-5987  2010-03-29 14:52:00+00:00  NaN     NaN   \n",
       "817849          16-5987  2010-03-29 14:52:00+00:00  NaN     NaN   \n",
       "817850          16-5987  2010-03-29 14:53:00+00:00  NaN     NaN   \n",
       "817851          16-5987  2010-03-29 14:53:00+00:00  NaN     NaN   \n",
       "817852          16-5987  2010-03-29 14:53:00+00:00  NaN     NaN   \n",
       "817853          16-5987  2010-03-29 14:53:00+00:00  NaN     NaN   \n",
       "817854          16-5987  2010-03-29 14:54:00+00:00  NaN     NaN   \n",
       "817855          16-5987  2010-03-29 14:55:00+00:00  NaN     NaN   \n",
       "817856          16-5987  2010-03-29 14:56:00+00:00  NaN     NaN   \n",
       "817858          16-5987  2010-03-29 14:59:00+00:00  NaN   indus   \n",
       "817859          16-5987  2010-03-29 15:01:00+00:00  NaN     NaN   \n",
       "817862          16-5987  2010-03-29 15:02:00+00:00  NaN   indus   \n",
       "1788530        4-231978  2010-02-25 19:15:00+00:00  NaN     NaN   \n",
       "1788533        4-231978  2010-02-25 19:23:00+00:00  NaN  erUSUL   \n",
       "2126179         5-30220  2010-03-29 14:40:00+00:00  NaN     NaN   \n",
       "2126180         5-30220  2010-03-29 14:42:00+00:00  NaN     NaN   \n",
       "2126181         5-30220  2010-03-29 14:42:00+00:00  NaN     NaN   \n",
       "3017861         9-55270  2010-03-29 14:40:00+00:00  NaN     NaN   \n",
       "3017862         9-55270  2010-03-29 14:42:00+00:00  NaN     NaN   \n",
       "3017863         9-55270  2010-03-29 14:42:00+00:00  NaN     NaN   \n",
       "3017864         9-55270  2010-03-29 14:43:00+00:00  NaN     NaN   \n",
       "3017865         9-55270  2010-03-29 14:43:00+00:00  NaN     NaN   \n",
       "3017866         9-55270  2010-03-29 14:43:00+00:00  NaN     NaN   \n",
       "3017867         9-55270  2010-03-29 14:43:00+00:00  NaN     NaN   \n",
       "\n",
       "                                                      text  \n",
       "817847             but grub throws grub_getcharwidth error  \n",
       "817848                          and drops to grub recovery  \n",
       "817849            where i can ls the device and partitions  \n",
       "817850                                    and even folders  \n",
       "817851                    i can set the kernel to /vmlinuz  \n",
       "817852     but when i type boot, it says: no kernel loaded  \n",
       "817853                           10.04 works, but not 9.10  \n",
       "817854                     so I'm not sure what else to do  \n",
       "817855                               does that make sense?  \n",
       "817856   Is there anyone who can help me with my grub e...  \n",
       "817858                       i think i sent you a message?  \n",
       "817859              can anyone help me with my grub error?  \n",
       "817862   i think i opened a window to chat with you dir...  \n",
       "1788530  Question: In Intrepid, if I enable my wired et...  \n",
       "1788533                               Thanks, that did it!  \n",
       "2126179  hello, can anyone help me? I am getting an gru...  \n",
       "2126180  i have xubuntu installed on a macbook pro, and...  \n",
       "2126181                            everytime i try to boot  \n",
       "3017861  hello, can anyone help me? I am getting an gru...  \n",
       "3017862  i have xubuntu installed on a macbook pro, and...  \n",
       "3017863                            everytime i try to boot  \n",
       "3017864                                                yes  \n",
       "3017865                 i've reinstalled about three times  \n",
       "3017866                                               9.04  \n",
       "3017867                                                x64  "
      ]
     },
     "execution_count": 134,
     "metadata": {},
     "output_type": "execute_result"
    }
   ],
   "source": [
    "data[pd.isna(data['from'])==True]"
   ]
  },
  {
   "cell_type": "code",
   "execution_count": 136,
   "metadata": {},
   "outputs": [],
   "source": [
    "data = data[data['from'].notna()]"
   ]
  },
  {
   "cell_type": "code",
   "execution_count": 140,
   "metadata": {},
   "outputs": [
    {
     "name": "stdout",
     "output_type": "stream",
     "text": [
      "92495\n"
     ]
    }
   ],
   "source": [
    "uni_users = list(data['from'].unique())\n",
    "print(len(uni_users))"
   ]
  },
  {
   "cell_type": "code",
   "execution_count": 141,
   "metadata": {},
   "outputs": [],
   "source": [
    "user_dict = {'users':uni_users}"
   ]
  },
  {
   "cell_type": "code",
   "execution_count": 10,
   "metadata": {},
   "outputs": [],
   "source": [
    "# converting datetime column to datetime format.\n",
    "data['datetime'] = pd.to_datetime(data['datetime'])"
   ]
  },
  {
   "cell_type": "code",
   "execution_count": 85,
   "metadata": {},
   "outputs": [],
   "source": [
    "from tqdm.notebook import tqdm"
   ]
  },
  {
   "cell_type": "code",
   "execution_count": 88,
   "metadata": {},
   "outputs": [
    {
     "data": {
      "application/vnd.jupyter.widget-view+json": {
       "model_id": "78828b93aefc470890bdf11a1f375330",
       "version_major": 2,
       "version_minor": 0
      },
      "text/plain": [
       "  0%|          | 0/92496 [00:00<?, ?it/s]"
      ]
     },
     "metadata": {},
     "output_type": "display_data"
    }
   ],
   "source": [
    "m_count = []\n",
    "for user in tqdm(user_dict['users']):\n",
    "    m_count.append(data[data['from'] ==  user].groupby(['conversation_id'])['conversation_id'].unique().count())"
   ]
  },
  {
   "cell_type": "code",
   "execution_count": 147,
   "metadata": {},
   "outputs": [
    {
     "data": {
      "text/plain": [
       "92495"
      ]
     },
     "execution_count": 147,
     "metadata": {},
     "output_type": "execute_result"
    }
   ],
   "source": [
    "len(m_count)"
   ]
  },
  {
   "cell_type": "code",
   "execution_count": 148,
   "metadata": {},
   "outputs": [],
   "source": [
    "user_dict['conv_count']  = m_count"
   ]
  },
  {
   "cell_type": "markdown",
   "metadata": {},
   "source": [
    "## Test 1 (No. of Conversations) :  \n",
    "I calculated the avg no. of conv among all the users and will take into account only those users having no.of conv above average. This way I can get rid of users that are not active much. This also helps me with my first step to get the data down to a form which can be handled "
   ]
  },
  {
   "cell_type": "code",
   "execution_count": 149,
   "metadata": {},
   "outputs": [],
   "source": [
    "avg_count = sum(m_count)/len(m_count)"
   ]
  },
  {
   "cell_type": "code",
   "execution_count": 177,
   "metadata": {},
   "outputs": [
    {
     "data": {
      "text/plain": [
       "7.828661008703173"
      ]
     },
     "execution_count": 177,
     "metadata": {},
     "output_type": "execute_result"
    }
   ],
   "source": [
    "avg_count"
   ]
  },
  {
   "cell_type": "code",
   "execution_count": 244,
   "metadata": {},
   "outputs": [],
   "source": [
    "for i,item in enumerate(m_count):\n",
    "    if item < avg_count:\n",
    "        #print(i)\n",
    "        user_dict['users'].pop(i)\n",
    "        user_dict['conv_count'].pop(i)\n",
    "        #count += 1"
   ]
  },
  {
   "cell_type": "code",
   "execution_count": 245,
   "metadata": {},
   "outputs": [
    {
     "data": {
      "text/plain": [
       "14797"
      ]
     },
     "execution_count": 245,
     "metadata": {},
     "output_type": "execute_result"
    }
   ],
   "source": [
    "len(user_dict['conv_count'])"
   ]
  },
  {
   "cell_type": "code",
   "execution_count": 252,
   "metadata": {},
   "outputs": [],
   "source": [
    "init_df = pd.DataFrame(user_dict)"
   ]
  },
  {
   "cell_type": "code",
   "execution_count": 255,
   "metadata": {},
   "outputs": [
    {
     "data": {
      "text/html": [
       "<div>\n",
       "<style scoped>\n",
       "    .dataframe tbody tr th:only-of-type {\n",
       "        vertical-align: middle;\n",
       "    }\n",
       "\n",
       "    .dataframe tbody tr th {\n",
       "        vertical-align: top;\n",
       "    }\n",
       "\n",
       "    .dataframe thead th {\n",
       "        text-align: right;\n",
       "    }\n",
       "</style>\n",
       "<table border=\"1\" class=\"dataframe\">\n",
       "  <thead>\n",
       "    <tr style=\"text-align: right;\">\n",
       "      <th></th>\n",
       "      <th>users</th>\n",
       "      <th>conv_count</th>\n",
       "    </tr>\n",
       "  </thead>\n",
       "  <tbody>\n",
       "    <tr>\n",
       "      <th>0</th>\n",
       "      <td>sometux</td>\n",
       "      <td>63</td>\n",
       "    </tr>\n",
       "    <tr>\n",
       "      <th>1</th>\n",
       "      <td>mrapple</td>\n",
       "      <td>17</td>\n",
       "    </tr>\n",
       "    <tr>\n",
       "      <th>2</th>\n",
       "      <td>ikonia</td>\n",
       "      <td>5203</td>\n",
       "    </tr>\n",
       "    <tr>\n",
       "      <th>3</th>\n",
       "      <td>tumenjargal</td>\n",
       "      <td>19</td>\n",
       "    </tr>\n",
       "    <tr>\n",
       "      <th>4</th>\n",
       "      <td>nukelacity</td>\n",
       "      <td>16</td>\n",
       "    </tr>\n",
       "    <tr>\n",
       "      <th>...</th>\n",
       "      <td>...</td>\n",
       "      <td>...</td>\n",
       "    </tr>\n",
       "    <tr>\n",
       "      <th>14792</th>\n",
       "      <td>ker</td>\n",
       "      <td>8</td>\n",
       "    </tr>\n",
       "    <tr>\n",
       "      <th>14793</th>\n",
       "      <td>mw_netbook</td>\n",
       "      <td>8</td>\n",
       "    </tr>\n",
       "    <tr>\n",
       "      <th>14794</th>\n",
       "      <td>ricko</td>\n",
       "      <td>8</td>\n",
       "    </tr>\n",
       "    <tr>\n",
       "      <th>14795</th>\n",
       "      <td>sidh_</td>\n",
       "      <td>10</td>\n",
       "    </tr>\n",
       "    <tr>\n",
       "      <th>14796</th>\n",
       "      <td>brahim</td>\n",
       "      <td>11</td>\n",
       "    </tr>\n",
       "  </tbody>\n",
       "</table>\n",
       "<p>14797 rows × 2 columns</p>\n",
       "</div>"
      ],
      "text/plain": [
       "             users  conv_count\n",
       "0          sometux          63\n",
       "1          mrapple          17\n",
       "2           ikonia        5203\n",
       "3      tumenjargal          19\n",
       "4       nukelacity          16\n",
       "...            ...         ...\n",
       "14792          ker           8\n",
       "14793   mw_netbook           8\n",
       "14794        ricko           8\n",
       "14795        sidh_          10\n",
       "14796       brahim          11\n",
       "\n",
       "[14797 rows x 2 columns]"
      ]
     },
     "execution_count": 255,
     "metadata": {},
     "output_type": "execute_result"
    }
   ],
   "source": [
    "init_df"
   ]
  },
  {
   "cell_type": "code",
   "execution_count": 254,
   "metadata": {},
   "outputs": [],
   "source": [
    "init_df.to_csv('init_df.csv', index=False)"
   ]
  },
  {
   "cell_type": "markdown",
   "metadata": {},
   "source": [
    "## Test 2a (Active Period) : \n",
    "Initial test- to calculate a specific user's activity in the span of 2 years I take the conv for that user, iterate through them and take timedelta between the first and last message. then add this for all the conv that user was part of. But the double iteration is running too long, need to optimize this code. "
   ]
  },
  {
   "cell_type": "code",
   "execution_count": 300,
   "metadata": {},
   "outputs": [
    {
     "data": {
      "application/vnd.jupyter.widget-view+json": {
       "model_id": "132ba6b9ec3d4b6ba78c67e8b6fb6b0d",
       "version_major": 2,
       "version_minor": 0
      },
      "text/plain": [
       "  0%|          | 0/5 [00:00<?, ?it/s]"
      ]
     },
     "metadata": {},
     "output_type": "display_data"
    }
   ],
   "source": [
    "activity = []\n",
    "for user in tqdm(init_df['users'][0:5]):\n",
    "    convs = list(data[data['from']==user]['conversation_id'].unique())\n",
    "    active = 0\n",
    "    for conv in convs:\n",
    "        subset = data[(data['from']==user) & (data['conversation_id']==conv)].datetime\n",
    "        delta = pd.to_datetime(subset.iloc[-1]) - pd.to_datetime(subset.iloc[0])\n",
    "        active += int(delta.total_seconds()/60)\n",
    "    activity.append(active)"
   ]
  },
  {
   "cell_type": "code",
   "execution_count": 376,
   "metadata": {},
   "outputs": [
    {
     "data": {
      "text/html": [
       "<div>\n",
       "<style scoped>\n",
       "    .dataframe tbody tr th:only-of-type {\n",
       "        vertical-align: middle;\n",
       "    }\n",
       "\n",
       "    .dataframe tbody tr th {\n",
       "        vertical-align: top;\n",
       "    }\n",
       "\n",
       "    .dataframe thead th {\n",
       "        text-align: right;\n",
       "    }\n",
       "</style>\n",
       "<table border=\"1\" class=\"dataframe\">\n",
       "  <thead>\n",
       "    <tr style=\"text-align: right;\">\n",
       "      <th></th>\n",
       "      <th>users</th>\n",
       "      <th>conv_count</th>\n",
       "      <th>activity(in min)</th>\n",
       "      <th>score</th>\n",
       "    </tr>\n",
       "  </thead>\n",
       "  <tbody>\n",
       "    <tr>\n",
       "      <th>11131</th>\n",
       "      <td>kernelupdate</td>\n",
       "      <td>8</td>\n",
       "      <td>28</td>\n",
       "      <td>2.400813</td>\n",
       "    </tr>\n",
       "  </tbody>\n",
       "</table>\n",
       "</div>"
      ],
      "text/plain": [
       "              users  conv_count  activity(in min)     score\n",
       "11131  kernelupdate           8                28  2.400813"
      ]
     },
     "execution_count": 376,
     "metadata": {},
     "output_type": "execute_result"
    }
   ],
   "source": [
    "init_df[init_df['users'] == 'kernelupdate']"
   ]
  },
  {
   "cell_type": "code",
   "execution_count": 385,
   "metadata": {},
   "outputs": [],
   "source": [
    "def getActiveList(user):\n",
    "    active = []\n",
    "    convs = list(data[data['from']==user]['conversation_id'].unique())\n",
    "    for conv in convs:\n",
    "        subset = data[(data['from']==user) & (data['conversation_id']==conv)].datetime\n",
    "        delta = pd.to_datetime(subset.iloc[-1]) - pd.to_datetime(subset.iloc[0])\n",
    "        active.append(int(delta.total_seconds()/60))\n",
    "    return active"
   ]
  },
  {
   "cell_type": "markdown",
   "metadata": {},
   "source": [
    "Guest88905\n",
    "kernelupdate"
   ]
  },
  {
   "cell_type": "code",
   "execution_count": 386,
   "metadata": {},
   "outputs": [],
   "source": [
    "user1 = getActiveList('Guest88905')\n",
    "user2 = getActiveList('kernelupdate')"
   ]
  },
  {
   "cell_type": "code",
   "execution_count": 389,
   "metadata": {},
   "outputs": [],
   "source": [
    "xlist1 = ['u1c1', 'u2c1', 'u1c2', 'u2c2', 'u1c3', 'u2c3', 'u1c4', 'u2c4', 'u1c5', 'u2c5', 'u1c6', 'u2c6', 'u1c7', 'u2c7', 'u1c8', 'u2c8']\n",
    "xlist = ['c1', 'c2', 'c3', 'c4', 'c5', 'c6', 'c7', 'c8']"
   ]
  },
  {
   "cell_type": "code",
   "execution_count": 414,
   "metadata": {},
   "outputs": [
    {
     "data": {
      "image/png": "[encoded data removed]",
      "text/plain": [
       "<Figure size 720x504 with 1 Axes>"
      ]
     },
     "metadata": {
      "needs_background": "light"
     },
     "output_type": "display_data"
    }
   ],
   "source": [
    "fig = plt.figure(figsize=(10,7))\n",
    "\n",
    "plt.scatter(xlist, user1, color='orange', marker='s')\n",
    "plt.scatter(xlist, user2, color='blue')\n",
    "\n",
    "plt.axhline(y=sum(user1)/len(user1), linestyle='--', color='orange')\n",
    "plt.axhline(y=sum(user2)/len(user2), linestyle='--', color='blue')\n",
    "\n",
    "plt.xlabel('Conversations', fontsize=14)\n",
    "plt.ylabel('Active Mins', fontsize=14)\n",
    "plt.show()"
   ]
  },
  {
   "cell_type": "code",
   "execution_count": 301,
   "metadata": {},
   "outputs": [
    {
     "data": {
      "text/plain": [
       "[365267, 58, 133429022, 43, 66]"
      ]
     },
     "execution_count": 301,
     "metadata": {},
     "output_type": "execute_result"
    }
   ],
   "source": [
    "activity"
   ]
  },
  {
   "cell_type": "markdown",
   "metadata": {},
   "source": [
    "## Test 2b (Active Period) : \n",
    "Second approach is to take the activity time of an user as the timedelta between his/her first activity and last activity. Theres a catch in this, maybe the user did a conv during the start of time span and 1 in the end. with this approach his activity time will still be large but no.of conv very less. But this factor i am taking into consideration in Test 1. also my next test will remove users who are using this technique to increase their activity time."
   ]
  },
  {
   "cell_type": "code",
   "execution_count": 313,
   "metadata": {},
   "outputs": [
    {
     "data": {
      "application/vnd.jupyter.widget-view+json": {
       "model_id": "e105bba4baa841eca3d269731f53b908",
       "version_major": 2,
       "version_minor": 0
      },
      "text/plain": [
       "  0%|          | 0/14797 [00:00<?, ?it/s]"
      ]
     },
     "metadata": {},
     "output_type": "display_data"
    }
   ],
   "source": [
    "activity2 = []\n",
    "for user in tqdm(init_df['users']):\n",
    "    sub = data[data['from']==user].sort_values(by='datetime').datetime\n",
    "    delta  = pd.to_datetime(sub.iloc[-1]) - pd.to_datetime(sub.iloc[0])\n",
    "    activity2.append(int(delta.total_seconds()/60))"
   ]
  },
  {
   "cell_type": "code",
   "execution_count": 315,
   "metadata": {},
   "outputs": [],
   "source": [
    "init_df['activity(in min)'] = activity2"
   ]
  },
  {
   "cell_type": "code",
   "execution_count": 316,
   "metadata": {},
   "outputs": [
    {
     "data": {
      "text/html": [
       "<div>\n",
       "<style scoped>\n",
       "    .dataframe tbody tr th:only-of-type {\n",
       "        vertical-align: middle;\n",
       "    }\n",
       "\n",
       "    .dataframe tbody tr th {\n",
       "        vertical-align: top;\n",
       "    }\n",
       "\n",
       "    .dataframe thead th {\n",
       "        text-align: right;\n",
       "    }\n",
       "</style>\n",
       "<table border=\"1\" class=\"dataframe\">\n",
       "  <thead>\n",
       "    <tr style=\"text-align: right;\">\n",
       "      <th></th>\n",
       "      <th>users</th>\n",
       "      <th>conv_count</th>\n",
       "      <th>activity(in min)</th>\n",
       "    </tr>\n",
       "  </thead>\n",
       "  <tbody>\n",
       "    <tr>\n",
       "      <th>0</th>\n",
       "      <td>sometux</td>\n",
       "      <td>63</td>\n",
       "      <td>479031</td>\n",
       "    </tr>\n",
       "    <tr>\n",
       "      <th>1</th>\n",
       "      <td>mrapple</td>\n",
       "      <td>17</td>\n",
       "      <td>592285</td>\n",
       "    </tr>\n",
       "    <tr>\n",
       "      <th>2</th>\n",
       "      <td>ikonia</td>\n",
       "      <td>5203</td>\n",
       "      <td>1032001</td>\n",
       "    </tr>\n",
       "    <tr>\n",
       "      <th>3</th>\n",
       "      <td>tumenjargal</td>\n",
       "      <td>19</td>\n",
       "      <td>571175</td>\n",
       "    </tr>\n",
       "    <tr>\n",
       "      <th>4</th>\n",
       "      <td>nukelacity</td>\n",
       "      <td>16</td>\n",
       "      <td>43530</td>\n",
       "    </tr>\n",
       "    <tr>\n",
       "      <th>...</th>\n",
       "      <td>...</td>\n",
       "      <td>...</td>\n",
       "      <td>...</td>\n",
       "    </tr>\n",
       "    <tr>\n",
       "      <th>14792</th>\n",
       "      <td>ker</td>\n",
       "      <td>8</td>\n",
       "      <td>8771</td>\n",
       "    </tr>\n",
       "    <tr>\n",
       "      <th>14793</th>\n",
       "      <td>mw_netbook</td>\n",
       "      <td>8</td>\n",
       "      <td>4</td>\n",
       "    </tr>\n",
       "    <tr>\n",
       "      <th>14794</th>\n",
       "      <td>ricko</td>\n",
       "      <td>8</td>\n",
       "      <td>52820</td>\n",
       "    </tr>\n",
       "    <tr>\n",
       "      <th>14795</th>\n",
       "      <td>sidh_</td>\n",
       "      <td>10</td>\n",
       "      <td>231352</td>\n",
       "    </tr>\n",
       "    <tr>\n",
       "      <th>14796</th>\n",
       "      <td>brahim</td>\n",
       "      <td>11</td>\n",
       "      <td>687890</td>\n",
       "    </tr>\n",
       "  </tbody>\n",
       "</table>\n",
       "<p>14797 rows × 3 columns</p>\n",
       "</div>"
      ],
      "text/plain": [
       "             users  conv_count  activity(in min)\n",
       "0          sometux          63            479031\n",
       "1          mrapple          17            592285\n",
       "2           ikonia        5203           1032001\n",
       "3      tumenjargal          19            571175\n",
       "4       nukelacity          16             43530\n",
       "...            ...         ...               ...\n",
       "14792          ker           8              8771\n",
       "14793   mw_netbook           8                 4\n",
       "14794        ricko           8             52820\n",
       "14795        sidh_          10            231352\n",
       "14796       brahim          11            687890\n",
       "\n",
       "[14797 rows x 3 columns]"
      ]
     },
     "execution_count": 316,
     "metadata": {},
     "output_type": "execute_result"
    }
   ],
   "source": [
    "init_df"
   ]
  },
  {
   "cell_type": "markdown",
   "metadata": {},
   "source": [
    "## Test 3 (Efficiency) :\n",
    "Now that I have conv count and activity period for the top 15k users, i try to calculate their efficiency. I take an approach similar to calculating tf-idf but not exactly same. The conv count of every user / log(activity period) = efficiency score. "
   ]
  },
  {
   "cell_type": "code",
   "execution_count": 317,
   "metadata": {},
   "outputs": [],
   "source": [
    "from math import log"
   ]
  },
  {
   "cell_type": "code",
   "execution_count": 328,
   "metadata": {},
   "outputs": [
    {
     "data": {
      "application/vnd.jupyter.widget-view+json": {
       "model_id": "1da9dfc4bf094e5080604699209264bc",
       "version_major": 2,
       "version_minor": 0
      },
      "text/plain": [
       "  0%|          | 0/14797 [00:00<?, ?it/s]"
      ]
     },
     "metadata": {},
     "output_type": "display_data"
    }
   ],
   "source": [
    "score = []\n",
    "for i in tqdm(range(0, len(init_df.users))):\n",
    "    score.append(init_df['conv_count'][i] / log(init_df['activity(in min)'][i]))"
   ]
  },
  {
   "cell_type": "code",
   "execution_count": 330,
   "metadata": {},
   "outputs": [],
   "source": [
    "init_df['score'] = score"
   ]
  },
  {
   "cell_type": "code",
   "execution_count": 337,
   "metadata": {},
   "outputs": [
    {
     "data": {
      "text/html": [
       "<div>\n",
       "<style scoped>\n",
       "    .dataframe tbody tr th:only-of-type {\n",
       "        vertical-align: middle;\n",
       "    }\n",
       "\n",
       "    .dataframe tbody tr th {\n",
       "        vertical-align: top;\n",
       "    }\n",
       "\n",
       "    .dataframe thead th {\n",
       "        text-align: right;\n",
       "    }\n",
       "</style>\n",
       "<table border=\"1\" class=\"dataframe\">\n",
       "  <thead>\n",
       "    <tr style=\"text-align: right;\">\n",
       "      <th></th>\n",
       "      <th>users</th>\n",
       "      <th>conv_count</th>\n",
       "      <th>activity(in min)</th>\n",
       "      <th>score</th>\n",
       "    </tr>\n",
       "  </thead>\n",
       "  <tbody>\n",
       "    <tr>\n",
       "      <th>14722</th>\n",
       "      <td>chilicuil</td>\n",
       "      <td>8</td>\n",
       "      <td>983202</td>\n",
       "      <td>0.579770</td>\n",
       "    </tr>\n",
       "    <tr>\n",
       "      <th>12978</th>\n",
       "      <td>cyberjorge</td>\n",
       "      <td>8</td>\n",
       "      <td>986559</td>\n",
       "      <td>0.579627</td>\n",
       "    </tr>\n",
       "    <tr>\n",
       "      <th>10599</th>\n",
       "      <td>Pitel</td>\n",
       "      <td>8</td>\n",
       "      <td>992156</td>\n",
       "      <td>0.579390</td>\n",
       "    </tr>\n",
       "    <tr>\n",
       "      <th>13498</th>\n",
       "      <td>thomc</td>\n",
       "      <td>8</td>\n",
       "      <td>992193</td>\n",
       "      <td>0.579388</td>\n",
       "    </tr>\n",
       "    <tr>\n",
       "      <th>9098</th>\n",
       "      <td>abhi_</td>\n",
       "      <td>8</td>\n",
       "      <td>993134</td>\n",
       "      <td>0.579348</td>\n",
       "    </tr>\n",
       "    <tr>\n",
       "      <th>12966</th>\n",
       "      <td>zer0her0</td>\n",
       "      <td>8</td>\n",
       "      <td>993687</td>\n",
       "      <td>0.579325</td>\n",
       "    </tr>\n",
       "    <tr>\n",
       "      <th>13257</th>\n",
       "      <td>ravigehlot</td>\n",
       "      <td>8</td>\n",
       "      <td>994983</td>\n",
       "      <td>0.579270</td>\n",
       "    </tr>\n",
       "    <tr>\n",
       "      <th>14278</th>\n",
       "      <td>edson</td>\n",
       "      <td>8</td>\n",
       "      <td>998329</td>\n",
       "      <td>0.579129</td>\n",
       "    </tr>\n",
       "    <tr>\n",
       "      <th>13925</th>\n",
       "      <td>DrDuck</td>\n",
       "      <td>8</td>\n",
       "      <td>999061</td>\n",
       "      <td>0.579099</td>\n",
       "    </tr>\n",
       "    <tr>\n",
       "      <th>13180</th>\n",
       "      <td>seanbright</td>\n",
       "      <td>8</td>\n",
       "      <td>1008183</td>\n",
       "      <td>0.578718</td>\n",
       "    </tr>\n",
       "    <tr>\n",
       "      <th>2489</th>\n",
       "      <td>ravn</td>\n",
       "      <td>8</td>\n",
       "      <td>1017606</td>\n",
       "      <td>0.578329</td>\n",
       "    </tr>\n",
       "    <tr>\n",
       "      <th>4320</th>\n",
       "      <td>arnotixe</td>\n",
       "      <td>8</td>\n",
       "      <td>1020159</td>\n",
       "      <td>0.578224</td>\n",
       "    </tr>\n",
       "    <tr>\n",
       "      <th>13919</th>\n",
       "      <td>rooth</td>\n",
       "      <td>8</td>\n",
       "      <td>1026250</td>\n",
       "      <td>0.577975</td>\n",
       "    </tr>\n",
       "    <tr>\n",
       "      <th>14704</th>\n",
       "      <td>gigglefight</td>\n",
       "      <td>8</td>\n",
       "      <td>1035765</td>\n",
       "      <td>0.577590</td>\n",
       "    </tr>\n",
       "    <tr>\n",
       "      <th>14183</th>\n",
       "      <td>solexious</td>\n",
       "      <td>8</td>\n",
       "      <td>1037739</td>\n",
       "      <td>0.577511</td>\n",
       "    </tr>\n",
       "  </tbody>\n",
       "</table>\n",
       "</div>"
      ],
      "text/plain": [
       "             users  conv_count  activity(in min)     score\n",
       "14722    chilicuil           8            983202  0.579770\n",
       "12978   cyberjorge           8            986559  0.579627\n",
       "10599        Pitel           8            992156  0.579390\n",
       "13498        thomc           8            992193  0.579388\n",
       "9098         abhi_           8            993134  0.579348\n",
       "12966     zer0her0           8            993687  0.579325\n",
       "13257   ravigehlot           8            994983  0.579270\n",
       "14278        edson           8            998329  0.579129\n",
       "13925       DrDuck           8            999061  0.579099\n",
       "13180   seanbright           8           1008183  0.578718\n",
       "2489          ravn           8           1017606  0.578329\n",
       "4320      arnotixe           8           1020159  0.578224\n",
       "13919        rooth           8           1026250  0.577975\n",
       "14704  gigglefight           8           1035765  0.577590\n",
       "14183    solexious           8           1037739  0.577511"
      ]
     },
     "execution_count": 337,
     "metadata": {},
     "output_type": "execute_result"
    }
   ],
   "source": [
    "init_df.sort_values(by='score', ascending=False).tail(15)"
   ]
  },
  {
   "cell_type": "markdown",
   "metadata": {},
   "source": [
    "### Explanation: \n",
    "Top 15 users are stored in the top_users.csv. If we look at the above table which showcases bottom 15 users, we can see all have done same no .of conv=8 but the last user's (solexious - least scored) activity time is much more than the first users's (chilicuil - most scored in this table). Which suggests that solexious had wasted more time than chilicuil and been less efficient."
   ]
  },
  {
   "cell_type": "code",
   "execution_count": 335,
   "metadata": {},
   "outputs": [],
   "source": [
    "top_users = init_df.sort_values(by='score', ascending=False).head(15)"
   ]
  },
  {
   "cell_type": "code",
   "execution_count": 336,
   "metadata": {},
   "outputs": [],
   "source": [
    "top_users.to_csv('top_users.csv', index=False)"
   ]
  },
  {
   "cell_type": "code",
   "execution_count": 352,
   "metadata": {},
   "outputs": [
    {
     "data": {
      "text/html": [
       "<div>\n",
       "<style scoped>\n",
       "    .dataframe tbody tr th:only-of-type {\n",
       "        vertical-align: middle;\n",
       "    }\n",
       "\n",
       "    .dataframe tbody tr th {\n",
       "        vertical-align: top;\n",
       "    }\n",
       "\n",
       "    .dataframe thead th {\n",
       "        text-align: right;\n",
       "    }\n",
       "</style>\n",
       "<table border=\"1\" class=\"dataframe\">\n",
       "  <thead>\n",
       "    <tr style=\"text-align: right;\">\n",
       "      <th></th>\n",
       "      <th>users</th>\n",
       "      <th>conv_count</th>\n",
       "      <th>activity(in min)</th>\n",
       "      <th>score</th>\n",
       "    </tr>\n",
       "  </thead>\n",
       "  <tbody>\n",
       "    <tr>\n",
       "      <th>68</th>\n",
       "      <td>ActionParsnip</td>\n",
       "      <td>10436</td>\n",
       "      <td>1048227</td>\n",
       "      <td>752.816350</td>\n",
       "    </tr>\n",
       "    <tr>\n",
       "      <th>27</th>\n",
       "      <td>Dr_Willis</td>\n",
       "      <td>7365</td>\n",
       "      <td>884510</td>\n",
       "      <td>537.874347</td>\n",
       "    </tr>\n",
       "    <tr>\n",
       "      <th>90</th>\n",
       "      <td>bazhang</td>\n",
       "      <td>5707</td>\n",
       "      <td>1047747</td>\n",
       "      <td>411.696518</td>\n",
       "    </tr>\n",
       "    <tr>\n",
       "      <th>2</th>\n",
       "      <td>ikonia</td>\n",
       "      <td>5203</td>\n",
       "      <td>1032001</td>\n",
       "      <td>375.748983</td>\n",
       "    </tr>\n",
       "    <tr>\n",
       "      <th>47</th>\n",
       "      <td>erUSUL</td>\n",
       "      <td>4615</td>\n",
       "      <td>690972</td>\n",
       "      <td>343.228463</td>\n",
       "    </tr>\n",
       "    <tr>\n",
       "      <th>57</th>\n",
       "      <td>jrib</td>\n",
       "      <td>4188</td>\n",
       "      <td>1022036</td>\n",
       "      <td>302.660042</td>\n",
       "    </tr>\n",
       "    <tr>\n",
       "      <th>329</th>\n",
       "      <td>Pici</td>\n",
       "      <td>3829</td>\n",
       "      <td>1041596</td>\n",
       "      <td>276.337100</td>\n",
       "    </tr>\n",
       "    <tr>\n",
       "      <th>1379</th>\n",
       "      <td>FloodBot1</td>\n",
       "      <td>3596</td>\n",
       "      <td>1048215</td>\n",
       "      <td>259.403012</td>\n",
       "    </tr>\n",
       "    <tr>\n",
       "      <th>293</th>\n",
       "      <td>theadmin</td>\n",
       "      <td>3505</td>\n",
       "      <td>1045875</td>\n",
       "      <td>252.879354</td>\n",
       "    </tr>\n",
       "    <tr>\n",
       "      <th>192</th>\n",
       "      <td>ZykoticK9</td>\n",
       "      <td>3318</td>\n",
       "      <td>815673</td>\n",
       "      <td>243.759650</td>\n",
       "    </tr>\n",
       "    <tr>\n",
       "      <th>273</th>\n",
       "      <td>Jordan_U</td>\n",
       "      <td>3312</td>\n",
       "      <td>1043708</td>\n",
       "      <td>238.990519</td>\n",
       "    </tr>\n",
       "    <tr>\n",
       "      <th>40</th>\n",
       "      <td>xangua</td>\n",
       "      <td>3248</td>\n",
       "      <td>1040971</td>\n",
       "      <td>234.416762</td>\n",
       "    </tr>\n",
       "    <tr>\n",
       "      <th>84</th>\n",
       "      <td>iceroot</td>\n",
       "      <td>3217</td>\n",
       "      <td>1046147</td>\n",
       "      <td>232.096325</td>\n",
       "    </tr>\n",
       "    <tr>\n",
       "      <th>106</th>\n",
       "      <td>rww</td>\n",
       "      <td>3111</td>\n",
       "      <td>924757</td>\n",
       "      <td>226.463942</td>\n",
       "    </tr>\n",
       "    <tr>\n",
       "      <th>25</th>\n",
       "      <td>edbian</td>\n",
       "      <td>3004</td>\n",
       "      <td>1048311</td>\n",
       "      <td>216.696746</td>\n",
       "    </tr>\n",
       "  </tbody>\n",
       "</table>\n",
       "</div>"
      ],
      "text/plain": [
       "              users  conv_count  activity(in min)       score\n",
       "68    ActionParsnip       10436           1048227  752.816350\n",
       "27        Dr_Willis        7365            884510  537.874347\n",
       "90          bazhang        5707           1047747  411.696518\n",
       "2            ikonia        5203           1032001  375.748983\n",
       "47           erUSUL        4615            690972  343.228463\n",
       "57             jrib        4188           1022036  302.660042\n",
       "329            Pici        3829           1041596  276.337100\n",
       "1379      FloodBot1        3596           1048215  259.403012\n",
       "293        theadmin        3505           1045875  252.879354\n",
       "192       ZykoticK9        3318            815673  243.759650\n",
       "273        Jordan_U        3312           1043708  238.990519\n",
       "40           xangua        3248           1040971  234.416762\n",
       "84          iceroot        3217           1046147  232.096325\n",
       "106             rww        3111            924757  226.463942\n",
       "25           edbian        3004           1048311  216.696746"
      ]
     },
     "execution_count": 352,
     "metadata": {},
     "output_type": "execute_result"
    }
   ],
   "source": [
    "top_users"
   ]
  },
  {
   "cell_type": "markdown",
   "metadata": {},
   "source": [
    "## Visualizations\n",
    "1. Bar chart representing conversation counts of the top 15 users with the count denoted. "
   ]
  },
  {
   "cell_type": "code",
   "execution_count": 338,
   "metadata": {},
   "outputs": [],
   "source": [
    "import matplotlib.pyplot as plt"
   ]
  },
  {
   "cell_type": "code",
   "execution_count": 415,
   "metadata": {
    "scrolled": false
   },
   "outputs": [
    {
     "data": {
      "image/png": "[encoded data removed]",
      "text/plain": [
       "<Figure size 864x504 with 1 Axes>"
      ]
     },
     "metadata": {
      "needs_background": "light"
     },
     "output_type": "display_data"
    }
   ],
   "source": [
    "fig = plt.figure(figsize=(12,7))\n",
    "\n",
    "plt.barh(top_users.users, top_users.conv_count, color='green')\n",
    "for i, v in enumerate(top_users.conv_count):\n",
    "    plt.text(v, i + .25, str(v), fontweight='bold')\n",
    "plt.xlabel('Conversation Count', fontsize=14)\n",
    "plt.ylabel('Top Users', fontsize=14)\n",
    "plt.gca().invert_yaxis()\n",
    "plt.show()"
   ]
  },
  {
   "cell_type": "code",
   "execution_count": 454,
   "metadata": {},
   "outputs": [
    {
     "data": {
      "text/plain": [
       "Text(0, 0.5, '1 / Log of Activity Period')"
      ]
     },
     "execution_count": 454,
     "metadata": {},
     "output_type": "execute_result"
    },
    {
     "data": {
      "image/png": "[encoded data removed]",
      "text/plain": [
       "<Figure size 864x504 with 1 Axes>"
      ]
     },
     "metadata": {
      "needs_background": "light"
     },
     "output_type": "display_data"
    }
   ],
   "source": [
    "fig = plt.figure(figsize=(12,7))\n",
    "\n",
    "plt.scatter(init_df.sort_values(by='conv_count', ascending=False)[0:200]['conv_count'], init_df.sort_values(by='conv_count', ascending=False)[0:200]['activity(in min)'].apply(lambda x : 1/log(x)))\n",
    "plt.title('Distribution of Conversation count and Active Period for Top 200 Users', fontsize=16)\n",
    "plt.xlabel('Log of Conversation Count', fontsize=14)\n",
    "plt.ylabel('1 / Log of Activity Period', fontsize=14)\n"
   ]
  },
  {
   "cell_type": "markdown",
   "metadata": {},
   "source": [
    "## Task 2 - Phatic Chat Classifier"
   ]
  },
  {
   "cell_type": "code",
   "execution_count": 511,
   "metadata": {},
   "outputs": [],
   "source": [
    "text_data = pd.DataFrame(data['text'])"
   ]
  },
  {
   "cell_type": "code",
   "execution_count": 516,
   "metadata": {},
   "outputs": [
    {
     "data": {
      "text/html": [
       "<div>\n",
       "<style scoped>\n",
       "    .dataframe tbody tr th:only-of-type {\n",
       "        vertical-align: middle;\n",
       "    }\n",
       "\n",
       "    .dataframe tbody tr th {\n",
       "        vertical-align: top;\n",
       "    }\n",
       "\n",
       "    .dataframe thead th {\n",
       "        text-align: right;\n",
       "    }\n",
       "</style>\n",
       "<table border=\"1\" class=\"dataframe\">\n",
       "  <thead>\n",
       "    <tr style=\"text-align: right;\">\n",
       "      <th></th>\n",
       "      <th>text</th>\n",
       "    </tr>\n",
       "  </thead>\n",
       "  <tbody>\n",
       "    <tr>\n",
       "      <th>1807096</th>\n",
       "      <td>NaN</td>\n",
       "    </tr>\n",
       "    <tr>\n",
       "      <th>2830696</th>\n",
       "      <td>NaN</td>\n",
       "    </tr>\n",
       "  </tbody>\n",
       "</table>\n",
       "</div>"
      ],
      "text/plain": [
       "        text\n",
       "1807096  NaN\n",
       "2830696  NaN"
      ]
     },
     "execution_count": 516,
     "metadata": {},
     "output_type": "execute_result"
    }
   ],
   "source": [
    "text_data[text_data['text'].isna()==True]"
   ]
  },
  {
   "cell_type": "code",
   "execution_count": 518,
   "metadata": {},
   "outputs": [],
   "source": [
    "text_data.dropna(inplace=True)"
   ]
  },
  {
   "cell_type": "code",
   "execution_count": 521,
   "metadata": {},
   "outputs": [],
   "source": [
    "text_data.reset_index(inplace=True)"
   ]
  },
  {
   "cell_type": "code",
   "execution_count": 524,
   "metadata": {},
   "outputs": [],
   "source": [
    "text_data.drop(columns='index', inplace=True)"
   ]
  },
  {
   "cell_type": "markdown",
   "metadata": {},
   "source": [
    "### Creating a list of phatic words containing pleasantries, farewells, greetings for the labeling process"
   ]
  },
  {
   "cell_type": "code",
   "execution_count": 487,
   "metadata": {},
   "outputs": [],
   "source": [
    "phatic_words = [\"Hello\", \"Hi\", \"Hey\", \"Greetings\", \"Salutations\", \"Good morning\", \"Good afternoon\", \"Good evening\", \"Howdy\", \"Yo\", \"What's up?\", \"How's it going?\", \"How are you doing?\", \"How do you do?\", \"Nice to see you\", \"Nice to meet you\", \"Pleased to meet you\", \"Great to see you\", \"It's a pleasure to meet you\", \"It's good to see you\", \"Good to meet you\", \"How's your day going?\", \"What have you been up to?\", \"What's new?\", \"How have you been?\", \"How's life treating you?\", \"How's everything?\", \"What's happening?\", \"What's going on?\", \"What's the latest?\", \"How's your family?\", \"How are the kids?\", \"How's your spouse/partner?\", \"How's your health?\", \"I hope you're doing well.\", \"I hope everything is going well for you.\", \"I hope you're having a good day.\", \"Have a good one.\", \"Take care.\", \"Bye for now.\", \"See you later.\", \"See you soon.\", \"Catch you later.\", \"Talk to you soon.\", \"It was nice talking to you.\", \"It was great seeing you.\", \"Thank you.\", \"Thanks.\", \"Thank you very much.\", \"Thanks a lot.\", \"Thanks a million.\", \"You're welcome.\", \"No problem.\", \"It's my pleasure.\", \"Excuse me.\", \"Pardon me.\", \"Sorry.\", \"My apologies.\", \"No worries.\", \"Don't mention it.\", \"Anytime.\", \"I'm glad I could help.\", \"Congratulations.\", \"Well done.\", \"Good job.\", \"Great work.\", \"You deserve it.\", \"Happy birthday.\", \"Happy anniversary.\", \"Best wishes.\", \"Good luck.\", \"Break a leg.\", \"Take it easy.\", \"Chill out.\", \"Relax.\", \"Enjoy.\", \"Cheers.\", \"Bottoms up.\", \"Here's to you.\", \"Raise a glass.\", \"Let's toast.\", \"Merry Christmas.\", \"Happy Hanukkah.\", \"Happy Kwanzaa.\", \"Happy holidays.\", \"Happy New Year.\", \"Ring in the new year.\", \"Best of luck in the new year.\", \"All the best in the new year.\", \"May your dreams come true.\", \"Make it a great day.\", \"Make it a great week.\", \"Make it a great weekend.\", \"Have a blast.\", \"Live it up.\", \"Party on.\", \"Keep in touch.\", \"Stay in touch.\", \"Drop me a line.\", \"Give me a call.\"]"
   ]
  },
  {
   "cell_type": "code",
   "execution_count": 488,
   "metadata": {},
   "outputs": [],
   "source": [
    "phatic_slangs = [\"Hello\", \"Hi\", \"Hey\", \"Yo\", \"What's up\", \"Howdy\", \"G'day\", \"Good morning\", \"Good afternoon\", \"Good evening\", \"How's it going?\", \"How are you doing?\", \"What's new?\", \"What's happening?\", \"What's going on?\", \"How's your day going?\", \"Nice to meet you\", \"Pleasure to meet you\", \"Good to see you\", \"Long time no see\", \"What's good?\", \"Wassup?\", \"Sup?\", \"How's life treating you?\", \"How's everything?\", \"How's the weather?\", \"Thank you\", \"Thanks\", \"Cheers\", \"Much appreciated\", \"You're welcome\", \"No problem\", \"No worries\", \"My pleasure\", \"Excuse me\", \"Pardon me\", \"Sorry\", \"My apologies\", \"It's all good\", \"Take care\", \"See you later\", \"Catch you later\", \"Later\", \"Bye\", \"Goodbye\", \"Adios\", \"Ciao\", \"Hasta la vista\", \"Peace out\", \"Goodbye\", \"Bye\", \"See you later\", \"Catch you later\", \"Later\", \"Peace out\", \"Adios\", \"Hasta la vista\", \"Ciao\", \"So long\", \"Take care\", \"Have a good one\", \"Have a good day\", \"Have a good night\", \"Have a good weekend\", \"Have a good trip\", \"Safe travels\", \"Drive safely\", \"Stay safe\", \"Keep in touch\", \"Talk to you soon\", \"See you soon\", \"Until next time\", \"Farewell\", \"All the best\", \"Best wishes\", \"Have a good one\", \"Cheers\", \"Later gator\", \"Smell you later\", \"Toodle-oo\", \"Ta-ta\", \"Bye-bye\", \"See ya\", \"Laters\", \"Gotta run\", \"I'm out\", \"I'm off\", \"Peace\", \"Deuces\", \"Hello\", \"Hi\", \"Hey\", \"Yo\", \"What's up\", \"Howdy\", \"G'day\", \"Good morning\", \"Good afternoon\", \"Good evening\", \"How's it going?\", \"How are you doing?\", \"What's new?\", \"What's happening?\", \"What's going on?\", \"How's your day going?\", \"Nice to meet you\", \"Pleasure to meet you\", \"Good to see you\", \"Long time no see\", \"What's good?\", \"Wassup?\", \"Sup?\", \"How's life treating you?\", \"How's everything?\", \"How's the weather?\", \"Aloha\", \"Bonjour\", \"Hola\", \"Namaste\", \"Salaam\", \"Shalom\", \"Hey there\", \"Greetings\", \"Welcome\", \"Ahoy\", \"Hiya\", \"Yoohoo\", \"Howdy-do\", \"Howdy-partner\", \"Howdy y'all\", \"What it do?\", \"What's crackin'?\", \"What's poppin'?\", \"What's goodie?\", \"What's the word?\", \"What's the haps?\", \"What's cooking?\", \"What's shaking?\", \"What's the deal?\", \"How's tricks?\", \"How's your mama?\", \"Howdy ma'am/sir\", \"Well, well, well\", \"Look who it is\", \"Long time, no talk\", \"Hi-de-ho\", \"Top of the morning to you\", \"G'day mate\", \"Greetings and salutations\", \"Hello there, handsome/beautiful\", \"Sup champ?\", \"How's it hanging?\", \"How's your hat?\", \"Heyo\"]"
   ]
  },
  {
   "cell_type": "code",
   "execution_count": 489,
   "metadata": {},
   "outputs": [],
   "source": [
    "phatic_slangs = list(set(phatic_slangs))"
   ]
  },
  {
   "cell_type": "code",
   "execution_count": 492,
   "metadata": {},
   "outputs": [],
   "source": [
    "phatic = phatic_words + phatic_slangs"
   ]
  },
  {
   "cell_type": "code",
   "execution_count": 494,
   "metadata": {},
   "outputs": [],
   "source": [
    "phatic = list(set(phatic))"
   ]
  },
  {
   "cell_type": "code",
   "execution_count": 495,
   "metadata": {},
   "outputs": [
    {
     "data": {
      "text/plain": [
       "198"
      ]
     },
     "execution_count": 495,
     "metadata": {},
     "output_type": "execute_result"
    }
   ],
   "source": [
    "len(phatic)"
   ]
  },
  {
   "cell_type": "code",
   "execution_count": 497,
   "metadata": {},
   "outputs": [
    {
     "data": {
      "text/plain": [
       "['Hola', \"I hope you're doing well.\", 'Adios', 'Goodbye', \"What's new?\"]"
      ]
     },
     "execution_count": 497,
     "metadata": {},
     "output_type": "execute_result"
    }
   ],
   "source": [
    "phatic[0:5]"
   ]
  },
  {
   "cell_type": "code",
   "execution_count": 529,
   "metadata": {},
   "outputs": [],
   "source": [
    "text_data.text = [x.lower() for x in text_data.text]"
   ]
  },
  {
   "cell_type": "code",
   "execution_count": 532,
   "metadata": {},
   "outputs": [],
   "source": [
    "phatic = [x.lower() for x in phatic]"
   ]
  },
  {
   "cell_type": "code",
   "execution_count": 537,
   "metadata": {},
   "outputs": [
    {
     "name": "stderr",
     "output_type": "stream",
     "text": [
      "WARNING: Ignoring invalid distribution -umpy (c:\\programdata\\anaconda3\\lib\\site-packages)\n",
      "WARNING: Ignoring invalid distribution -umpy (c:\\programdata\\anaconda3\\lib\\site-packages)\n",
      "WARNING: Ignoring invalid distribution -umpy (c:\\programdata\\anaconda3\\lib\\site-packages)\n",
      "WARNING: Ignoring invalid distribution -umpy (c:\\programdata\\anaconda3\\lib\\site-packages)\n",
      "WARNING: Ignoring invalid distribution -umpy (c:\\programdata\\anaconda3\\lib\\site-packages)\n",
      "WARNING: Ignoring invalid distribution -umpy (c:\\programdata\\anaconda3\\lib\\site-packages)\n",
      "WARNING: Ignoring invalid distribution -umpy (c:\\programdata\\anaconda3\\lib\\site-packages)\n",
      "\n",
      "[notice] A new release of pip available: 22.3.1 -> 23.0.1\n",
      "[notice] To update, run: python.exe -m pip install --upgrade pip\n"
     ]
    },
    {
     "name": "stdout",
     "output_type": "stream",
     "text": [
      "Collecting fuzzywuzzy\n",
      "  Downloading fuzzywuzzy-0.18.0-py2.py3-none-any.whl (18 kB)\n",
      "Installing collected packages: fuzzywuzzy\n",
      "Successfully installed fuzzywuzzy-0.18.0\n"
     ]
    }
   ],
   "source": [
    "!pip install fuzzywuzzy"
   ]
  },
  {
   "cell_type": "code",
   "execution_count": 548,
   "metadata": {},
   "outputs": [
    {
     "name": "stdout",
     "output_type": "stream",
     "text": [
      "100\n"
     ]
    }
   ],
   "source": [
    "s='hey, how are you?'\n",
    "s1='hey'\n",
    "\n",
    "from fuzzywuzzy import fuzz\n",
    "\n",
    "print(fuzz.partial_ratio(s,s1))"
   ]
  },
  {
   "cell_type": "code",
   "execution_count": 554,
   "metadata": {},
   "outputs": [],
   "source": [
    "text_data['phatic'] = ''"
   ]
  },
  {
   "cell_type": "code",
   "execution_count": 556,
   "metadata": {},
   "outputs": [
    {
     "data": {
      "application/vnd.jupyter.widget-view+json": {
       "model_id": "b89d29b49a224c96b0c3b217c8e293a8",
       "version_major": 2,
       "version_minor": 0
      },
      "text/plain": [
       "0it [00:00, ?it/s]"
      ]
     },
     "metadata": {},
     "output_type": "display_data"
    },
    {
     "ename": "KeyboardInterrupt",
     "evalue": "",
     "output_type": "error",
     "traceback": [
      "\u001b[1;31m---------------------------------------------------------------------------\u001b[0m",
      "\u001b[1;31mKeyboardInterrupt\u001b[0m                         Traceback (most recent call last)",
      "\u001b[1;32m<ipython-input-556-5f702e9c2585>\u001b[0m in \u001b[0;36m<module>\u001b[1;34m\u001b[0m\n\u001b[0;32m      3\u001b[0m         \u001b[0mtext_data\u001b[0m\u001b[1;33m[\u001b[0m\u001b[1;34m'phatic'\u001b[0m\u001b[1;33m]\u001b[0m\u001b[1;33m[\u001b[0m\u001b[0mi\u001b[0m\u001b[1;33m]\u001b[0m \u001b[1;33m=\u001b[0m \u001b[1;36m1\u001b[0m\u001b[1;33m\u001b[0m\u001b[1;33m\u001b[0m\u001b[0m\n\u001b[0;32m      4\u001b[0m     \u001b[1;32melse\u001b[0m\u001b[1;33m:\u001b[0m\u001b[1;33m\u001b[0m\u001b[1;33m\u001b[0m\u001b[0m\n\u001b[1;32m----> 5\u001b[1;33m         \u001b[0mtext_data\u001b[0m\u001b[1;33m[\u001b[0m\u001b[1;34m'phatic'\u001b[0m\u001b[1;33m]\u001b[0m\u001b[1;33m[\u001b[0m\u001b[0mi\u001b[0m\u001b[1;33m]\u001b[0m \u001b[1;33m=\u001b[0m \u001b[1;36m0\u001b[0m\u001b[1;33m\u001b[0m\u001b[1;33m\u001b[0m\u001b[0m\n\u001b[0m",
      "\u001b[1;32mC:\\ProgramData\\Anaconda3\\lib\\site-packages\\pandas\\core\\series.py\u001b[0m in \u001b[0;36m__setitem__\u001b[1;34m(self, key, value)\u001b[0m\n\u001b[0;32m   1043\u001b[0m \u001b[1;33m\u001b[0m\u001b[0m\n\u001b[0;32m   1044\u001b[0m         \u001b[1;32mif\u001b[0m \u001b[0mcacher_needs_updating\u001b[0m\u001b[1;33m:\u001b[0m\u001b[1;33m\u001b[0m\u001b[1;33m\u001b[0m\u001b[0m\n\u001b[1;32m-> 1045\u001b[1;33m             \u001b[0mself\u001b[0m\u001b[1;33m.\u001b[0m\u001b[0m_maybe_update_cacher\u001b[0m\u001b[1;33m(\u001b[0m\u001b[1;33m)\u001b[0m\u001b[1;33m\u001b[0m\u001b[1;33m\u001b[0m\u001b[0m\n\u001b[0m\u001b[0;32m   1046\u001b[0m \u001b[1;33m\u001b[0m\u001b[0m\n\u001b[0;32m   1047\u001b[0m     \u001b[1;32mdef\u001b[0m \u001b[0m_set_with_engine\u001b[0m\u001b[1;33m(\u001b[0m\u001b[0mself\u001b[0m\u001b[1;33m,\u001b[0m \u001b[0mkey\u001b[0m\u001b[1;33m,\u001b[0m \u001b[0mvalue\u001b[0m\u001b[1;33m)\u001b[0m\u001b[1;33m:\u001b[0m\u001b[1;33m\u001b[0m\u001b[1;33m\u001b[0m\u001b[0m\n",
      "\u001b[1;32mC:\\ProgramData\\Anaconda3\\lib\\site-packages\\pandas\\core\\generic.py\u001b[0m in \u001b[0;36m_maybe_update_cacher\u001b[1;34m(self, clear, verify_is_copy)\u001b[0m\n\u001b[0;32m   3280\u001b[0m                 \u001b[1;31m#  case where it will raise.  (Uh, not clear why)\u001b[0m\u001b[1;33m\u001b[0m\u001b[1;33m\u001b[0m\u001b[1;33m\u001b[0m\u001b[0m\n\u001b[0;32m   3281\u001b[0m                 \u001b[1;32mtry\u001b[0m\u001b[1;33m:\u001b[0m\u001b[1;33m\u001b[0m\u001b[1;33m\u001b[0m\u001b[0m\n\u001b[1;32m-> 3282\u001b[1;33m                     \u001b[0mref\u001b[0m\u001b[1;33m.\u001b[0m\u001b[0m_maybe_cache_changed\u001b[0m\u001b[1;33m(\u001b[0m\u001b[0mcacher\u001b[0m\u001b[1;33m[\u001b[0m\u001b[1;36m0\u001b[0m\u001b[1;33m]\u001b[0m\u001b[1;33m,\u001b[0m \u001b[0mself\u001b[0m\u001b[1;33m)\u001b[0m\u001b[1;33m\u001b[0m\u001b[1;33m\u001b[0m\u001b[0m\n\u001b[0m\u001b[0;32m   3283\u001b[0m                 \u001b[1;32mexcept\u001b[0m \u001b[0mAssertionError\u001b[0m\u001b[1;33m:\u001b[0m\u001b[1;33m\u001b[0m\u001b[1;33m\u001b[0m\u001b[0m\n\u001b[0;32m   3284\u001b[0m                     \u001b[1;31m# ref._data.setitem can raise\u001b[0m\u001b[1;33m\u001b[0m\u001b[1;33m\u001b[0m\u001b[1;33m\u001b[0m\u001b[0m\n",
      "\u001b[1;32mC:\\ProgramData\\Anaconda3\\lib\\site-packages\\pandas\\core\\generic.py\u001b[0m in \u001b[0;36m_maybe_cache_changed\u001b[1;34m(self, item, value)\u001b[0m\n\u001b[0;32m   3239\u001b[0m         \"\"\"The object has called back to us saying maybe it has changed.\n\u001b[0;32m   3240\u001b[0m         \"\"\"\n\u001b[1;32m-> 3241\u001b[1;33m         \u001b[0mself\u001b[0m\u001b[1;33m.\u001b[0m\u001b[0m_data\u001b[0m\u001b[1;33m.\u001b[0m\u001b[0mset\u001b[0m\u001b[1;33m(\u001b[0m\u001b[0mitem\u001b[0m\u001b[1;33m,\u001b[0m \u001b[0mvalue\u001b[0m\u001b[1;33m)\u001b[0m\u001b[1;33m\u001b[0m\u001b[1;33m\u001b[0m\u001b[0m\n\u001b[0m\u001b[0;32m   3242\u001b[0m \u001b[1;33m\u001b[0m\u001b[0m\n\u001b[0;32m   3243\u001b[0m     \u001b[1;33m@\u001b[0m\u001b[0mproperty\u001b[0m\u001b[1;33m\u001b[0m\u001b[1;33m\u001b[0m\u001b[0m\n",
      "\u001b[1;32mC:\\ProgramData\\Anaconda3\\lib\\site-packages\\pandas\\core\\internals\\managers.py\u001b[0m in \u001b[0;36mset\u001b[1;34m(self, item, value)\u001b[0m\n\u001b[0;32m   1079\u001b[0m \u001b[1;33m\u001b[0m\u001b[0m\n\u001b[0;32m   1080\u001b[0m         \u001b[0mblknos\u001b[0m \u001b[1;33m=\u001b[0m \u001b[0mself\u001b[0m\u001b[1;33m.\u001b[0m\u001b[0m_blknos\u001b[0m\u001b[1;33m[\u001b[0m\u001b[0mloc\u001b[0m\u001b[1;33m]\u001b[0m\u001b[1;33m\u001b[0m\u001b[1;33m\u001b[0m\u001b[0m\n\u001b[1;32m-> 1081\u001b[1;33m         \u001b[0mblklocs\u001b[0m \u001b[1;33m=\u001b[0m \u001b[0mself\u001b[0m\u001b[1;33m.\u001b[0m\u001b[0m_blklocs\u001b[0m\u001b[1;33m[\u001b[0m\u001b[0mloc\u001b[0m\u001b[1;33m]\u001b[0m\u001b[1;33m.\u001b[0m\u001b[0mcopy\u001b[0m\u001b[1;33m(\u001b[0m\u001b[1;33m)\u001b[0m\u001b[1;33m\u001b[0m\u001b[1;33m\u001b[0m\u001b[0m\n\u001b[0m\u001b[0;32m   1082\u001b[0m \u001b[1;33m\u001b[0m\u001b[0m\n\u001b[0;32m   1083\u001b[0m         \u001b[0munfit_mgr_locs\u001b[0m \u001b[1;33m=\u001b[0m \u001b[1;33m[\u001b[0m\u001b[1;33m]\u001b[0m\u001b[1;33m\u001b[0m\u001b[1;33m\u001b[0m\u001b[0m\n",
      "\u001b[1;31mKeyboardInterrupt\u001b[0m: "
     ]
    }
   ],
   "source": [
    "for i,text in tqdm(enumerate(text_data['text'])):\n",
    "    if text in phatic:\n",
    "        text_data['phatic'][i] = 1\n",
    "    else:\n",
    "        text_data['phatic'][i] = 0"
   ]
  },
  {
   "cell_type": "code",
   "execution_count": 1,
   "metadata": {},
   "outputs": [
    {
     "ename": "NameError",
     "evalue": "name 'text_data' is not defined",
     "output_type": "error",
     "traceback": [
      "\u001b[1;31m---------------------------------------------------------------------------\u001b[0m",
      "\u001b[1;31mNameError\u001b[0m                                 Traceback (most recent call last)",
      "\u001b[1;32m<ipython-input-1-731f6f5fb521>\u001b[0m in \u001b[0;36m<module>\u001b[1;34m\u001b[0m\n\u001b[1;32m----> 1\u001b[1;33m \u001b[0mtext_data\u001b[0m\u001b[1;33m.\u001b[0m\u001b[0mto_csv\u001b[0m\u001b[1;33m(\u001b[0m\u001b[1;34m'text_data.csv'\u001b[0m\u001b[1;33m,\u001b[0m \u001b[0mindex\u001b[0m\u001b[1;33m=\u001b[0m\u001b[1;32mFalse\u001b[0m\u001b[1;33m)\u001b[0m\u001b[1;33m\u001b[0m\u001b[1;33m\u001b[0m\u001b[0m\n\u001b[0m",
      "\u001b[1;31mNameError\u001b[0m: name 'text_data' is not defined"
     ]
    }
   ],
   "source": [
    "text_data.to_csv('text_data.csv', index=False)"
   ]
  },
  {
   "cell_type": "code",
   "execution_count": 3,
   "metadata": {},
   "outputs": [],
   "source": [
    "text_data = pd.read_csv('text_data.csv')"
   ]
  },
  {
   "cell_type": "code",
   "execution_count": 4,
   "metadata": {},
   "outputs": [],
   "source": [
    "lab_text_data, unseen_text_data = text_data[0:2241107], text_data[2241107:-1]"
   ]
  },
  {
   "cell_type": "code",
   "execution_count": 5,
   "metadata": {},
   "outputs": [],
   "source": [
    "unseen_text_data.reset_index(inplace=True)"
   ]
  },
  {
   "cell_type": "code",
   "execution_count": 6,
   "metadata": {},
   "outputs": [
    {
     "name": "stderr",
     "output_type": "stream",
     "text": [
      "<ipython-input-6-51f5968e8cab>:1: SettingWithCopyWarning: \n",
      "A value is trying to be set on a copy of a slice from a DataFrame.\n",
      "Try using .loc[row_indexer,col_indexer] = value instead\n",
      "\n",
      "See the caveats in the documentation: https://pandas.pydata.org/pandas-docs/stable/user_guide/indexing.html#returning-a-view-versus-a-copy\n",
      "  lab_text_data['phatic'] = lab_text_data['phatic'].astype(int)\n"
     ]
    }
   ],
   "source": [
    "lab_text_data['phatic'] = lab_text_data['phatic'].astype(int)"
   ]
  },
  {
   "cell_type": "code",
   "execution_count": 7,
   "metadata": {},
   "outputs": [
    {
     "data": {
      "text/html": [
       "<div>\n",
       "<style scoped>\n",
       "    .dataframe tbody tr th:only-of-type {\n",
       "        vertical-align: middle;\n",
       "    }\n",
       "\n",
       "    .dataframe tbody tr th {\n",
       "        vertical-align: top;\n",
       "    }\n",
       "\n",
       "    .dataframe thead th {\n",
       "        text-align: right;\n",
       "    }\n",
       "</style>\n",
       "<table border=\"1\" class=\"dataframe\">\n",
       "  <thead>\n",
       "    <tr style=\"text-align: right;\">\n",
       "      <th></th>\n",
       "      <th>text</th>\n",
       "      <th>phatic</th>\n",
       "    </tr>\n",
       "  </thead>\n",
       "  <tbody>\n",
       "    <tr>\n",
       "      <th>50</th>\n",
       "      <td>hi</td>\n",
       "      <td>1</td>\n",
       "    </tr>\n",
       "    <tr>\n",
       "      <th>158</th>\n",
       "      <td>sorry</td>\n",
       "      <td>1</td>\n",
       "    </tr>\n",
       "    <tr>\n",
       "      <th>210</th>\n",
       "      <td>hello</td>\n",
       "      <td>1</td>\n",
       "    </tr>\n",
       "    <tr>\n",
       "      <th>229</th>\n",
       "      <td>thank you</td>\n",
       "      <td>1</td>\n",
       "    </tr>\n",
       "    <tr>\n",
       "      <th>297</th>\n",
       "      <td>thanks</td>\n",
       "      <td>1</td>\n",
       "    </tr>\n",
       "    <tr>\n",
       "      <th>...</th>\n",
       "      <td>...</td>\n",
       "      <td>...</td>\n",
       "    </tr>\n",
       "    <tr>\n",
       "      <th>2240316</th>\n",
       "      <td>thanks</td>\n",
       "      <td>1</td>\n",
       "    </tr>\n",
       "    <tr>\n",
       "      <th>2240394</th>\n",
       "      <td>no problem</td>\n",
       "      <td>1</td>\n",
       "    </tr>\n",
       "    <tr>\n",
       "      <th>2240397</th>\n",
       "      <td>thanks.</td>\n",
       "      <td>1</td>\n",
       "    </tr>\n",
       "    <tr>\n",
       "      <th>2240573</th>\n",
       "      <td>you're welcome.</td>\n",
       "      <td>1</td>\n",
       "    </tr>\n",
       "    <tr>\n",
       "      <th>2240767</th>\n",
       "      <td>no problem</td>\n",
       "      <td>1</td>\n",
       "    </tr>\n",
       "  </tbody>\n",
       "</table>\n",
       "<p>26467 rows × 2 columns</p>\n",
       "</div>"
      ],
      "text/plain": [
       "                    text  phatic\n",
       "50                    hi       1\n",
       "158                sorry       1\n",
       "210                hello       1\n",
       "229            thank you       1\n",
       "297               thanks       1\n",
       "...                  ...     ...\n",
       "2240316           thanks       1\n",
       "2240394       no problem       1\n",
       "2240397          thanks.       1\n",
       "2240573  you're welcome.       1\n",
       "2240767       no problem       1\n",
       "\n",
       "[26467 rows x 2 columns]"
      ]
     },
     "execution_count": 7,
     "metadata": {},
     "output_type": "execute_result"
    }
   ],
   "source": [
    "lab_text_data[lab_text_data['phatic']==1]"
   ]
  },
  {
   "cell_type": "markdown",
   "metadata": {},
   "source": [
    "#### After labeling a large chunk of data, it was found the 2 classes are imbalanced with almost 1:100 ratio. So i will be using under-sampling as i still have a lot of data."
   ]
  },
  {
   "cell_type": "code",
   "execution_count": 8,
   "metadata": {},
   "outputs": [],
   "source": [
    "import nltk\n",
    "from nltk.tokenize import word_tokenize\n",
    "from nltk.corpus import stopwords\n",
    "from sklearn.feature_extraction.text import TfidfVectorizer\n",
    "from sklearn import model_selection, naive_bayes, svm\n",
    "from sklearn.linear_model import LogisticRegression\n",
    "from sklearn.metrics import classification_report, f1_score, accuracy_score"
   ]
  },
  {
   "cell_type": "code",
   "execution_count": 9,
   "metadata": {},
   "outputs": [],
   "source": [
    "X, test_X, Y, test_Y = model_selection.train_test_split(lab_text_data['text'], lab_text_data['phatic'], stratify=lab_text_data['phatic'], test_size=0.2)\n",
    "train_X, val_X, train_Y, val_Y = model_selection.train_test_split(X, Y, stratify=Y, test_size=0.2)"
   ]
  },
  {
   "cell_type": "code",
   "execution_count": 10,
   "metadata": {},
   "outputs": [
    {
     "name": "stdout",
     "output_type": "stream",
     "text": [
      "1434308\n",
      "1434308\n",
      "358577\n",
      "358577\n",
      "448222\n",
      "448222\n"
     ]
    }
   ],
   "source": [
    "print(len(train_X))\n",
    "print(len(train_Y))\n",
    "print(len(val_X))\n",
    "print(len(val_Y))\n",
    "print(len(test_X))\n",
    "print(len(test_Y))"
   ]
  },
  {
   "cell_type": "markdown",
   "metadata": {},
   "source": [
    "#### Vectorizing"
   ]
  },
  {
   "cell_type": "code",
   "execution_count": 11,
   "metadata": {},
   "outputs": [
    {
     "data": {
      "text/html": [
       "<style>#sk-container-id-1 {color: black;background-color: white;}#sk-container-id-1 pre{padding: 0;}#sk-container-id-1 div.sk-toggleable {background-color: white;}#sk-container-id-1 label.sk-toggleable__label {cursor: pointer;display: block;width: 100%;margin-bottom: 0;padding: 0.3em;box-sizing: border-box;text-align: center;}#sk-container-id-1 label.sk-toggleable__label-arrow:before {content: \"▸\";float: left;margin-right: 0.25em;color: #696969;}#sk-container-id-1 label.sk-toggleable__label-arrow:hover:before {color: black;}#sk-container-id-1 div.sk-estimator:hover label.sk-toggleable__label-arrow:before {color: black;}#sk-container-id-1 div.sk-toggleable__content {max-height: 0;max-width: 0;overflow: hidden;text-align: left;background-color: #f0f8ff;}#sk-container-id-1 div.sk-toggleable__content pre {margin: 0.2em;color: black;border-radius: 0.25em;background-color: #f0f8ff;}#sk-container-id-1 input.sk-toggleable__control:checked~div.sk-toggleable__content {max-height: 200px;max-width: 100%;overflow: auto;}#sk-container-id-1 input.sk-toggleable__control:checked~label.sk-toggleable__label-arrow:before {content: \"▾\";}#sk-container-id-1 div.sk-estimator input.sk-toggleable__control:checked~label.sk-toggleable__label {background-color: #d4ebff;}#sk-container-id-1 div.sk-label input.sk-toggleable__control:checked~label.sk-toggleable__label {background-color: #d4ebff;}#sk-container-id-1 input.sk-hidden--visually {border: 0;clip: rect(1px 1px 1px 1px);clip: rect(1px, 1px, 1px, 1px);height: 1px;margin: -1px;overflow: hidden;padding: 0;position: absolute;width: 1px;}#sk-container-id-1 div.sk-estimator {font-family: monospace;background-color: #f0f8ff;border: 1px dotted black;border-radius: 0.25em;box-sizing: border-box;margin-bottom: 0.5em;}#sk-container-id-1 div.sk-estimator:hover {background-color: #d4ebff;}#sk-container-id-1 div.sk-parallel-item::after {content: \"\";width: 100%;border-bottom: 1px solid gray;flex-grow: 1;}#sk-container-id-1 div.sk-label:hover label.sk-toggleable__label {background-color: #d4ebff;}#sk-container-id-1 div.sk-serial::before {content: \"\";position: absolute;border-left: 1px solid gray;box-sizing: border-box;top: 0;bottom: 0;left: 50%;z-index: 0;}#sk-container-id-1 div.sk-serial {display: flex;flex-direction: column;align-items: center;background-color: white;padding-right: 0.2em;padding-left: 0.2em;position: relative;}#sk-container-id-1 div.sk-item {position: relative;z-index: 1;}#sk-container-id-1 div.sk-parallel {display: flex;align-items: stretch;justify-content: center;background-color: white;position: relative;}#sk-container-id-1 div.sk-item::before, #sk-container-id-1 div.sk-parallel-item::before {content: \"\";position: absolute;border-left: 1px solid gray;box-sizing: border-box;top: 0;bottom: 0;left: 50%;z-index: -1;}#sk-container-id-1 div.sk-parallel-item {display: flex;flex-direction: column;z-index: 1;position: relative;background-color: white;}#sk-container-id-1 div.sk-parallel-item:first-child::after {align-self: flex-end;width: 50%;}#sk-container-id-1 div.sk-parallel-item:last-child::after {align-self: flex-start;width: 50%;}#sk-container-id-1 div.sk-parallel-item:only-child::after {width: 0;}#sk-container-id-1 div.sk-dashed-wrapped {border: 1px dashed gray;margin: 0 0.4em 0.5em 0.4em;box-sizing: border-box;padding-bottom: 0.4em;background-color: white;}#sk-container-id-1 div.sk-label label {font-family: monospace;font-weight: bold;display: inline-block;line-height: 1.2em;}#sk-container-id-1 div.sk-label-container {text-align: center;}#sk-container-id-1 div.sk-container {/* jupyter's `normalize.less` sets `[hidden] { display: none; }` but bootstrap.min.css set `[hidden] { display: none !important; }` so we also need the `!important` here to be able to override the default hidden behavior on the sphinx rendered scikit-learn.org. See: https://github.com/scikit-learn/scikit-learn/issues/21755 */display: inline-block !important;position: relative;}#sk-container-id-1 div.sk-text-repr-fallback {display: none;}</style><div id=\"sk-container-id-1\" class=\"sk-top-container\"><div class=\"sk-text-repr-fallback\"><pre>TfidfVectorizer()</pre><b>In a Jupyter environment, please rerun this cell to show the HTML representation or trust the notebook. <br />On GitHub, the HTML representation is unable to render, please try loading this page with nbviewer.org.</b></div><div class=\"sk-container\" hidden><div class=\"sk-item\"><div class=\"sk-estimator sk-toggleable\"><input class=\"sk-toggleable__control sk-hidden--visually\" id=\"sk-estimator-id-1\" type=\"checkbox\" checked><label for=\"sk-estimator-id-1\" class=\"sk-toggleable__label sk-toggleable__label-arrow\">TfidfVectorizer</label><div class=\"sk-toggleable__content\"><pre>TfidfVectorizer()</pre></div></div></div></div></div>"
      ],
      "text/plain": [
       "TfidfVectorizer()"
      ]
     },
     "execution_count": 11,
     "metadata": {},
     "output_type": "execute_result"
    }
   ],
   "source": [
    "vec = TfidfVectorizer()\n",
    "vec.fit(lab_text_data['text'])"
   ]
  },
  {
   "cell_type": "code",
   "execution_count": 12,
   "metadata": {},
   "outputs": [],
   "source": [
    "train_X_vecs = vec.transform(train_X)\n",
    "val_X_vecs = vec.transform(val_X)\n",
    "test_X_vecs = vec.transform(test_X)"
   ]
  },
  {
   "cell_type": "code",
   "execution_count": 13,
   "metadata": {},
   "outputs": [
    {
     "data": {
      "text/plain": [
       "(1434308, 235292)"
      ]
     },
     "execution_count": 13,
     "metadata": {},
     "output_type": "execute_result"
    }
   ],
   "source": [
    "train_X_vecs.shape"
   ]
  },
  {
   "cell_type": "markdown",
   "metadata": {},
   "source": [
    "#### Under-sampling"
   ]
  },
  {
   "cell_type": "code",
   "execution_count": 591,
   "metadata": {},
   "outputs": [
    {
     "name": "stderr",
     "output_type": "stream",
     "text": [
      "WARNING: Ignoring invalid distribution -umpy (c:\\programdata\\anaconda3\\lib\\site-packages)\n",
      "WARNING: Ignoring invalid distribution -umpy (c:\\programdata\\anaconda3\\lib\\site-packages)\n",
      "WARNING: Ignoring invalid distribution -umpy (c:\\programdata\\anaconda3\\lib\\site-packages)\n",
      "WARNING: Ignoring invalid distribution -umpy (c:\\programdata\\anaconda3\\lib\\site-packages)\n",
      "WARNING: Ignoring invalid distribution -umpy (c:\\programdata\\anaconda3\\lib\\site-packages)\n",
      "WARNING: Ignoring invalid distribution -umpy (c:\\programdata\\anaconda3\\lib\\site-packages)\n",
      "\n",
      "[notice] A new release of pip available: 22.3.1 -> 23.0.1\n",
      "[notice] To update, run: python.exe -m pip install --upgrade pip\n"
     ]
    },
    {
     "name": "stdout",
     "output_type": "stream",
     "text": [
      "Requirement already satisfied: imblearn in c:\\programdata\\anaconda3\\lib\\site-packages (0.0)\n",
      "Requirement already satisfied: imbalanced-learn in c:\\programdata\\anaconda3\\lib\\site-packages (from imblearn) (0.10.1)\n",
      "Requirement already satisfied: threadpoolctl>=2.0.0 in c:\\programdata\\anaconda3\\lib\\site-packages (from imbalanced-learn->imblearn) (2.1.0)\n",
      "Requirement already satisfied: scipy>=1.3.2 in c:\\programdata\\anaconda3\\lib\\site-packages (from imbalanced-learn->imblearn) (1.9.3)\n",
      "Requirement already satisfied: numpy>=1.17.3 in c:\\programdata\\anaconda3\\lib\\site-packages (from imbalanced-learn->imblearn) (1.23.5)\n",
      "Requirement already satisfied: joblib>=1.1.1 in c:\\programdata\\anaconda3\\lib\\site-packages (from imbalanced-learn->imblearn) (1.2.0)\n",
      "Requirement already satisfied: scikit-learn>=1.0.2 in c:\\programdata\\anaconda3\\lib\\site-packages (from imbalanced-learn->imblearn) (1.2.2)\n"
     ]
    }
   ],
   "source": [
    "!pip install imblearn"
   ]
  },
  {
   "cell_type": "code",
   "execution_count": 14,
   "metadata": {},
   "outputs": [],
   "source": [
    "from imblearn.under_sampling import RandomUnderSampler\n",
    "\n",
    "sampler = RandomUnderSampler(sampling_strategy=0.1, random_state = 42)"
   ]
  },
  {
   "cell_type": "code",
   "execution_count": 15,
   "metadata": {},
   "outputs": [],
   "source": [
    "train_X_vecs_res, train_Y_res = sampler.fit_resample(train_X_vecs, train_Y)"
   ]
  },
  {
   "cell_type": "code",
   "execution_count": 16,
   "metadata": {},
   "outputs": [
    {
     "data": {
      "text/plain": [
       "(186329,)"
      ]
     },
     "execution_count": 16,
     "metadata": {},
     "output_type": "execute_result"
    }
   ],
   "source": [
    "train_Y_res.shape"
   ]
  },
  {
   "cell_type": "markdown",
   "metadata": {},
   "source": [
    "#### with undersampling - good results"
   ]
  },
  {
   "cell_type": "code",
   "execution_count": 53,
   "metadata": {},
   "outputs": [
    {
     "name": "stdout",
     "output_type": "stream",
     "text": [
      "              precision    recall  f1-score   support\n",
      "\n",
      "           0       0.99      1.00      1.00    354342\n",
      "           1       0.79      0.50      0.61      4235\n",
      "\n",
      "    accuracy                           0.99    358577\n",
      "   macro avg       0.89      0.75      0.81    358577\n",
      "weighted avg       0.99      0.99      0.99    358577\n",
      "\n"
     ]
    }
   ],
   "source": [
    "Naive = naive_bayes.MultinomialNB(alpha=1.0,fit_prior=True)\n",
    "Naive.fit(train_X_vecs_res, train_Y_res)\n",
    "\n",
    "pred_NB = Naive.predict(val_X_vecs)\n",
    "\n",
    "print(classification_report(val_Y, pred_NB))\n"
   ]
  },
  {
   "cell_type": "code",
   "execution_count": 17,
   "metadata": {},
   "outputs": [
    {
     "name": "stdout",
     "output_type": "stream",
     "text": [
      "              precision    recall  f1-score   support\n",
      "\n",
      "           0       1.00      1.00      1.00    354342\n",
      "           1       0.74      0.99      0.84      4235\n",
      "\n",
      "    accuracy                           1.00    358577\n",
      "   macro avg       0.87      0.99      0.92    358577\n",
      "weighted avg       1.00      1.00      1.00    358577\n",
      "\n"
     ]
    }
   ],
   "source": [
    "SVM = svm.SVC(C=1.0, kernel='linear')\n",
    "SVM.fit(train_X_vecs_res, train_Y_res)\n",
    "\n",
    "pred_SVM = SVM.predict(val_X_vecs)\n",
    "\n",
    "print(classification_report(val_Y, pred_SVM))\n"
   ]
  },
  {
   "cell_type": "code",
   "execution_count": 57,
   "metadata": {},
   "outputs": [
    {
     "name": "stderr",
     "output_type": "stream",
     "text": [
      "C:\\ProgramData\\Anaconda3\\lib\\site-packages\\sklearn\\linear_model\\_logistic.py:458: ConvergenceWarning: lbfgs failed to converge (status=1):\n",
      "STOP: TOTAL NO. of ITERATIONS REACHED LIMIT.\n",
      "\n",
      "Increase the number of iterations (max_iter) or scale the data as shown in:\n",
      "    https://scikit-learn.org/stable/modules/preprocessing.html\n",
      "Please also refer to the documentation for alternative solver options:\n",
      "    https://scikit-learn.org/stable/modules/linear_model.html#logistic-regression\n",
      "  n_iter_i = _check_optimize_result(\n"
     ]
    },
    {
     "name": "stdout",
     "output_type": "stream",
     "text": [
      "              precision    recall  f1-score   support\n",
      "\n",
      "           0       1.00      1.00      1.00    354342\n",
      "           1       0.72      0.98      0.83      4235\n",
      "\n",
      "    accuracy                           1.00    358577\n",
      "   macro avg       0.86      0.99      0.92    358577\n",
      "weighted avg       1.00      1.00      1.00    358577\n",
      "\n"
     ]
    }
   ],
   "source": [
    "Logistic_R = LogisticRegression()\n",
    "Logistic_R.fit(train_X_vecs_res, train_Y_res)\n",
    "\n",
    "pred_LR = Logistic_R.predict(val_X_vecs)\n",
    "\n",
    "print(classification_report(val_Y, pred_LR))"
   ]
  },
  {
   "cell_type": "markdown",
   "metadata": {},
   "source": [
    "#### without undersampling- bad results"
   ]
  },
  {
   "cell_type": "code",
   "execution_count": 18,
   "metadata": {},
   "outputs": [
    {
     "name": "stdout",
     "output_type": "stream",
     "text": [
      "              precision    recall  f1-score   support\n",
      "\n",
      "           0       0.99      1.00      0.99    354342\n",
      "           1       0.00      0.00      0.00      4235\n",
      "\n",
      "    accuracy                           0.99    358577\n",
      "   macro avg       0.49      0.50      0.50    358577\n",
      "weighted avg       0.98      0.99      0.98    358577\n",
      "\n"
     ]
    }
   ],
   "source": [
    "Naive = naive_bayes.MultinomialNB(alpha=1.0,fit_prior=True)\n",
    "Naive.fit(train_X_vecs, train_Y)\n",
    "\n",
    "pred_NB = Naive.predict(val_X_vecs)\n",
    "\n",
    "print(classification_report(val_Y, pred_NB))"
   ]
  },
  {
   "cell_type": "markdown",
   "metadata": {},
   "source": [
    "#### Using my best performing model on val data (SVM) on the test data"
   ]
  },
  {
   "cell_type": "code",
   "execution_count": 18,
   "metadata": {},
   "outputs": [
    {
     "name": "stdout",
     "output_type": "stream",
     "text": [
      "              precision    recall  f1-score   support\n",
      "\n",
      "           0       1.00      1.00      1.00    442929\n",
      "           1       0.72      0.99      0.84      5293\n",
      "\n",
      "    accuracy                           1.00    448222\n",
      "   macro avg       0.86      0.99      0.92    448222\n",
      "weighted avg       1.00      1.00      1.00    448222\n",
      "\n"
     ]
    }
   ],
   "source": [
    "pred_test_SVM = SVM.predict(test_X_vecs)\n",
    "\n",
    "print(classification_report(test_Y, pred_test_SVM))"
   ]
  },
  {
   "cell_type": "code",
   "execution_count": 19,
   "metadata": {},
   "outputs": [],
   "source": [
    "SVM_report = classification_report(test_Y, pred_test_SVM, output_dict=True)\n",
    "data_SVM = pd.DataFrame(SVM_report).transpose()\n",
    "data_SVM.to_csv('SVM_report.csv')"
   ]
  },
  {
   "cell_type": "code",
   "execution_count": 20,
   "metadata": {},
   "outputs": [
    {
     "data": {
      "text/html": [
       "<div>\n",
       "<style scoped>\n",
       "    .dataframe tbody tr th:only-of-type {\n",
       "        vertical-align: middle;\n",
       "    }\n",
       "\n",
       "    .dataframe tbody tr th {\n",
       "        vertical-align: top;\n",
       "    }\n",
       "\n",
       "    .dataframe thead th {\n",
       "        text-align: right;\n",
       "    }\n",
       "</style>\n",
       "<table border=\"1\" class=\"dataframe\">\n",
       "  <thead>\n",
       "    <tr style=\"text-align: right;\">\n",
       "      <th></th>\n",
       "      <th>precision</th>\n",
       "      <th>recall</th>\n",
       "      <th>f1-score</th>\n",
       "      <th>support</th>\n",
       "    </tr>\n",
       "  </thead>\n",
       "  <tbody>\n",
       "    <tr>\n",
       "      <th>0</th>\n",
       "      <td>0.999898</td>\n",
       "      <td>0.995505</td>\n",
       "      <td>0.997697</td>\n",
       "      <td>442929.000000</td>\n",
       "    </tr>\n",
       "    <tr>\n",
       "      <th>1</th>\n",
       "      <td>0.724962</td>\n",
       "      <td>0.991498</td>\n",
       "      <td>0.837536</td>\n",
       "      <td>5293.000000</td>\n",
       "    </tr>\n",
       "    <tr>\n",
       "      <th>accuracy</th>\n",
       "      <td>0.995458</td>\n",
       "      <td>0.995458</td>\n",
       "      <td>0.995458</td>\n",
       "      <td>0.995458</td>\n",
       "    </tr>\n",
       "    <tr>\n",
       "      <th>macro avg</th>\n",
       "      <td>0.862430</td>\n",
       "      <td>0.993502</td>\n",
       "      <td>0.917616</td>\n",
       "      <td>448222.000000</td>\n",
       "    </tr>\n",
       "    <tr>\n",
       "      <th>weighted avg</th>\n",
       "      <td>0.996651</td>\n",
       "      <td>0.995458</td>\n",
       "      <td>0.995805</td>\n",
       "      <td>448222.000000</td>\n",
       "    </tr>\n",
       "  </tbody>\n",
       "</table>\n",
       "</div>"
      ],
      "text/plain": [
       "              precision    recall  f1-score        support\n",
       "0              0.999898  0.995505  0.997697  442929.000000\n",
       "1              0.724962  0.991498  0.837536    5293.000000\n",
       "accuracy       0.995458  0.995458  0.995458       0.995458\n",
       "macro avg      0.862430  0.993502  0.917616  448222.000000\n",
       "weighted avg   0.996651  0.995458  0.995805  448222.000000"
      ]
     },
     "execution_count": 20,
     "metadata": {},
     "output_type": "execute_result"
    }
   ],
   "source": [
    "data_SVM"
   ]
  },
  {
   "cell_type": "markdown",
   "metadata": {},
   "source": [
    "#### using model on unseen data"
   ]
  },
  {
   "cell_type": "code",
   "execution_count": 22,
   "metadata": {},
   "outputs": [
    {
     "data": {
      "text/plain": [
       "0                             is there a router in the way?\n",
       "1                      yeah i think he has a verizon router\n",
       "2         please tell him to forward port 22 onto his lo...\n",
       "3         that would require me to alter the settings of...\n",
       "4                yes, he needs to make the change, not you?\n",
       "                                ...                        \n",
       "834434    llutz_ yeah now i am removing old grub and now...\n",
       "834435                                              do tell\n",
       "834436    llutz_ now i have the latest kernel .29 and .2...\n",
       "834437    i told installing grub2 and removing old gurb ...\n",
       "834438                               synaptic is a safe way\n",
       "Name: text, Length: 834439, dtype: object"
      ]
     },
     "execution_count": 22,
     "metadata": {},
     "output_type": "execute_result"
    }
   ],
   "source": [
    "unseen_text_data['text']"
   ]
  },
  {
   "cell_type": "code",
   "execution_count": 23,
   "metadata": {},
   "outputs": [],
   "source": [
    "unseen_vecs = vec.transform(unseen_text_data['text'])"
   ]
  },
  {
   "cell_type": "code",
   "execution_count": 24,
   "metadata": {},
   "outputs": [],
   "source": [
    "unseen_label = SVM.predict(unseen_vecs)"
   ]
  },
  {
   "cell_type": "code",
   "execution_count": 34,
   "metadata": {},
   "outputs": [
    {
     "name": "stdout",
     "output_type": "stream",
     "text": [
      "15888\n"
     ]
    }
   ],
   "source": [
    "count = 0\n",
    "for i,a in enumerate(unseen_label):\n",
    "    if a == 1:\n",
    "        count += 1\n",
    "        #print(unseen_text_data['text'][i])\n",
    "print(count)"
   ]
  },
  {
   "cell_type": "code",
   "execution_count": 35,
   "metadata": {},
   "outputs": [
    {
     "name": "stderr",
     "output_type": "stream",
     "text": [
      "<ipython-input-35-dd2ac8b412cf>:1: SettingWithCopyWarning: \n",
      "A value is trying to be set on a copy of a slice from a DataFrame.\n",
      "Try using .loc[row_indexer,col_indexer] = value instead\n",
      "\n",
      "See the caveats in the documentation: https://pandas.pydata.org/pandas-docs/stable/user_guide/indexing.html#returning-a-view-versus-a-copy\n",
      "  unseen_text_data['phatic'] = unseen_label\n"
     ]
    }
   ],
   "source": [
    "unseen_text_data['phatic'] = unseen_label"
   ]
  },
  {
   "cell_type": "code",
   "execution_count": 38,
   "metadata": {},
   "outputs": [
    {
     "data": {
      "text/html": [
       "<div>\n",
       "<style scoped>\n",
       "    .dataframe tbody tr th:only-of-type {\n",
       "        vertical-align: middle;\n",
       "    }\n",
       "\n",
       "    .dataframe tbody tr th {\n",
       "        vertical-align: top;\n",
       "    }\n",
       "\n",
       "    .dataframe thead th {\n",
       "        text-align: right;\n",
       "    }\n",
       "</style>\n",
       "<table border=\"1\" class=\"dataframe\">\n",
       "  <thead>\n",
       "    <tr style=\"text-align: right;\">\n",
       "      <th></th>\n",
       "      <th>index</th>\n",
       "      <th>text</th>\n",
       "      <th>phatic</th>\n",
       "    </tr>\n",
       "  </thead>\n",
       "  <tbody>\n",
       "    <tr>\n",
       "      <th>356</th>\n",
       "      <td>2241463</td>\n",
       "      <td>no problem :d</td>\n",
       "      <td>1</td>\n",
       "    </tr>\n",
       "    <tr>\n",
       "      <th>398</th>\n",
       "      <td>2241505</td>\n",
       "      <td>thanks</td>\n",
       "      <td>1</td>\n",
       "    </tr>\n",
       "    <tr>\n",
       "      <th>708</th>\n",
       "      <td>2241815</td>\n",
       "      <td>hey :)</td>\n",
       "      <td>1</td>\n",
       "    </tr>\n",
       "    <tr>\n",
       "      <th>709</th>\n",
       "      <td>2241816</td>\n",
       "      <td>howdy</td>\n",
       "      <td>1</td>\n",
       "    </tr>\n",
       "    <tr>\n",
       "      <th>1591</th>\n",
       "      <td>2242698</td>\n",
       "      <td>bye bye</td>\n",
       "      <td>1</td>\n",
       "    </tr>\n",
       "    <tr>\n",
       "      <th>1695</th>\n",
       "      <td>2242802</td>\n",
       "      <td>you welcome anytime</td>\n",
       "      <td>1</td>\n",
       "    </tr>\n",
       "    <tr>\n",
       "      <th>1697</th>\n",
       "      <td>2242804</td>\n",
       "      <td>bye</td>\n",
       "      <td>1</td>\n",
       "    </tr>\n",
       "    <tr>\n",
       "      <th>1715</th>\n",
       "      <td>2242822</td>\n",
       "      <td>thanks</td>\n",
       "      <td>1</td>\n",
       "    </tr>\n",
       "    <tr>\n",
       "      <th>1720</th>\n",
       "      <td>2242827</td>\n",
       "      <td>thanks</td>\n",
       "      <td>1</td>\n",
       "    </tr>\n",
       "    <tr>\n",
       "      <th>1791</th>\n",
       "      <td>2242898</td>\n",
       "      <td>hey</td>\n",
       "      <td>1</td>\n",
       "    </tr>\n",
       "  </tbody>\n",
       "</table>\n",
       "</div>"
      ],
      "text/plain": [
       "        index                 text  phatic\n",
       "356   2241463        no problem :d       1\n",
       "398   2241505               thanks       1\n",
       "708   2241815               hey :)       1\n",
       "709   2241816                howdy       1\n",
       "1591  2242698              bye bye       1\n",
       "1695  2242802  you welcome anytime       1\n",
       "1697  2242804                  bye       1\n",
       "1715  2242822               thanks       1\n",
       "1720  2242827               thanks       1\n",
       "1791  2242898                  hey       1"
      ]
     },
     "execution_count": 38,
     "metadata": {},
     "output_type": "execute_result"
    }
   ],
   "source": [
    "unseen_text_data[unseen_text_data['phatic']==1].head(10)"
   ]
  },
  {
   "cell_type": "markdown",
   "metadata": {},
   "source": [
    "### So out of 834439 unseen text conv 15888 got labelled as phatic"
   ]
  },
  {
   "cell_type": "code",
   "execution_count": null,
   "metadata": {},
   "outputs": [],
   "source": []
  }
 ],
 "metadata": {
  "kernelspec": {
   "display_name": "Python 3",
   "language": "python",
   "name": "python3"
  },
  "language_info": {
   "codemirror_mode": {
    "name": "ipython",
    "version": 3
   },
   "file_extension": ".py",
   "mimetype": "text/x-python",
   "name": "python",
   "nbconvert_exporter": "python",
   "pygments_lexer": "ipython3",
   "version": "3.8.3"
  }
 },
 "nbformat": 4,
 "nbformat_minor": 2
}
